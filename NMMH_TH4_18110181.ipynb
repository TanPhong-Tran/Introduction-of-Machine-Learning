{
 "cells": [
  {
   "cell_type": "markdown",
   "metadata": {},
   "source": [
    "**lab 04: Naive Bayes**\n",
    "\n",
    "Ta  có $X_i=(x_i^1,x_i^2,...,x_i^n)$ là một sample có n features, với $c$ labels ($C_1,C_2,...C_c$). Ta muốn chọn được label cho sample $X_i$ thì dựa vào:\n",
    "$$C=\\mathop{argmax}_{C_j, j=\\overline{1,c}}P(C_j|X_i)$$\n",
    "Giả sử các thành phần của biến ngẫu nhiên X độc lập với nhau, ta được: \n",
    "$$C=\\mathop{argmax}_{C_j, j=\\overline{1,c}}P(C_j)\\prod_{i=1}^n P(X_i|C_j)$$\n",
    "\n",
    "Tóm lại: với mỗi label $C_j$ ta tính tích $P(C_j)\\prod_{i=1}^n P(X_i|C_j)$ và so sánh chúng với nhau từ đó chọn ra được label mang giá trị lớn nhất\n",
    "\n",
    "Một số phân phối:\n",
    "1. Multinomial\n",
    "\n",
    "2. Gaussian\n"
   ]
  },
  {
   "cell_type": "code",
   "execution_count": 1,
   "metadata": {},
   "outputs": [],
   "source": [
    "import pandas as pd\n",
    "import numpy as np\n",
    "\n",
    "from sklearn import metrics"
   ]
  },
  {
   "cell_type": "code",
   "execution_count": 2,
   "metadata": {
    "scrolled": true
   },
   "outputs": [
    {
     "data": {
      "text/html": [
       "<div>\n",
       "<style scoped>\n",
       "    .dataframe tbody tr th:only-of-type {\n",
       "        vertical-align: middle;\n",
       "    }\n",
       "\n",
       "    .dataframe tbody tr th {\n",
       "        vertical-align: top;\n",
       "    }\n",
       "\n",
       "    .dataframe thead th {\n",
       "        text-align: right;\n",
       "    }\n",
       "</style>\n",
       "<table border=\"1\" class=\"dataframe\">\n",
       "  <thead>\n",
       "    <tr style=\"text-align: right;\">\n",
       "      <th></th>\n",
       "      <th>PassengerId</th>\n",
       "      <th>Survived</th>\n",
       "      <th>Pclass</th>\n",
       "      <th>Name</th>\n",
       "      <th>Sex</th>\n",
       "      <th>Age</th>\n",
       "      <th>SibSp</th>\n",
       "      <th>Parch</th>\n",
       "      <th>Ticket</th>\n",
       "      <th>Fare</th>\n",
       "      <th>Cabin</th>\n",
       "      <th>Embarked</th>\n",
       "    </tr>\n",
       "  </thead>\n",
       "  <tbody>\n",
       "    <tr>\n",
       "      <th>0</th>\n",
       "      <td>1</td>\n",
       "      <td>0</td>\n",
       "      <td>3</td>\n",
       "      <td>Braund, Mr. Owen Harris</td>\n",
       "      <td>male</td>\n",
       "      <td>22.0</td>\n",
       "      <td>1</td>\n",
       "      <td>0</td>\n",
       "      <td>A/5 21171</td>\n",
       "      <td>7.2500</td>\n",
       "      <td>NaN</td>\n",
       "      <td>S</td>\n",
       "    </tr>\n",
       "    <tr>\n",
       "      <th>1</th>\n",
       "      <td>2</td>\n",
       "      <td>1</td>\n",
       "      <td>1</td>\n",
       "      <td>Cumings, Mrs. John Bradley (Florence Briggs Th...</td>\n",
       "      <td>female</td>\n",
       "      <td>38.0</td>\n",
       "      <td>1</td>\n",
       "      <td>0</td>\n",
       "      <td>PC 17599</td>\n",
       "      <td>71.2833</td>\n",
       "      <td>C85</td>\n",
       "      <td>C</td>\n",
       "    </tr>\n",
       "    <tr>\n",
       "      <th>2</th>\n",
       "      <td>3</td>\n",
       "      <td>1</td>\n",
       "      <td>3</td>\n",
       "      <td>Heikkinen, Miss. Laina</td>\n",
       "      <td>female</td>\n",
       "      <td>26.0</td>\n",
       "      <td>0</td>\n",
       "      <td>0</td>\n",
       "      <td>STON/O2. 3101282</td>\n",
       "      <td>7.9250</td>\n",
       "      <td>NaN</td>\n",
       "      <td>S</td>\n",
       "    </tr>\n",
       "    <tr>\n",
       "      <th>3</th>\n",
       "      <td>4</td>\n",
       "      <td>1</td>\n",
       "      <td>1</td>\n",
       "      <td>Futrelle, Mrs. Jacques Heath (Lily May Peel)</td>\n",
       "      <td>female</td>\n",
       "      <td>35.0</td>\n",
       "      <td>1</td>\n",
       "      <td>0</td>\n",
       "      <td>113803</td>\n",
       "      <td>53.1000</td>\n",
       "      <td>C123</td>\n",
       "      <td>S</td>\n",
       "    </tr>\n",
       "    <tr>\n",
       "      <th>4</th>\n",
       "      <td>5</td>\n",
       "      <td>0</td>\n",
       "      <td>3</td>\n",
       "      <td>Allen, Mr. William Henry</td>\n",
       "      <td>male</td>\n",
       "      <td>35.0</td>\n",
       "      <td>0</td>\n",
       "      <td>0</td>\n",
       "      <td>373450</td>\n",
       "      <td>8.0500</td>\n",
       "      <td>NaN</td>\n",
       "      <td>S</td>\n",
       "    </tr>\n",
       "  </tbody>\n",
       "</table>\n",
       "</div>"
      ],
      "text/plain": [
       "   PassengerId  Survived  Pclass  \\\n",
       "0            1         0       3   \n",
       "1            2         1       1   \n",
       "2            3         1       3   \n",
       "3            4         1       1   \n",
       "4            5         0       3   \n",
       "\n",
       "                                                Name     Sex   Age  SibSp  \\\n",
       "0                            Braund, Mr. Owen Harris    male  22.0      1   \n",
       "1  Cumings, Mrs. John Bradley (Florence Briggs Th...  female  38.0      1   \n",
       "2                             Heikkinen, Miss. Laina  female  26.0      0   \n",
       "3       Futrelle, Mrs. Jacques Heath (Lily May Peel)  female  35.0      1   \n",
       "4                           Allen, Mr. William Henry    male  35.0      0   \n",
       "\n",
       "   Parch            Ticket     Fare Cabin Embarked  \n",
       "0      0         A/5 21171   7.2500   NaN        S  \n",
       "1      0          PC 17599  71.2833   C85        C  \n",
       "2      0  STON/O2. 3101282   7.9250   NaN        S  \n",
       "3      0            113803  53.1000  C123        S  \n",
       "4      0            373450   8.0500   NaN        S  "
      ]
     },
     "execution_count": 2,
     "metadata": {},
     "output_type": "execute_result"
    }
   ],
   "source": [
    "data=pd.read_csv('https://raw.githubusercontent.com/huynhthanh98/ML/master/lab-04/train.csv')\n",
    "data.head()"
   ]
  },
  {
   "cell_type": "code",
   "execution_count": null,
   "metadata": {},
   "outputs": [],
   "source": []
  },
  {
   "cell_type": "code",
   "execution_count": 3,
   "metadata": {},
   "outputs": [
    {
     "name": "stdout",
     "output_type": "stream",
     "text": [
      "(891, 12)\n"
     ]
    }
   ],
   "source": [
    "print(data.shape)"
   ]
  },
  {
   "cell_type": "code",
   "execution_count": 4,
   "metadata": {},
   "outputs": [
    {
     "data": {
      "text/plain": [
       "(889, 10)"
      ]
     },
     "execution_count": 4,
     "metadata": {},
     "output_type": "execute_result"
    }
   ],
   "source": [
    "# Drop the columns \"Cabin\" and \"Age\"\n",
    "data = data.drop([\"Cabin\",\"Age\"],axis=1)\n",
    "# Drop the NaN value\n",
    "data = data.dropna()\n",
    "data.shape"
   ]
  },
  {
   "cell_type": "code",
   "execution_count": 5,
   "metadata": {},
   "outputs": [],
   "source": [
    "# Split data by using the sklearn\n",
    "from sklearn.model_selection import train_test_split\n",
    "data_train, data_test = train_test_split(data, test_size=0.2, \n",
    "                                        random_state=42)"
   ]
  },
  {
   "cell_type": "code",
   "execution_count": 6,
   "metadata": {},
   "outputs": [
    {
     "name": "stdout",
     "output_type": "stream",
     "text": [
      "Survived\n",
      "[1 0]\n",
      "Pclass\n",
      "[1 3 2]\n",
      "Sex\n",
      "['female' 'male']\n",
      "SibSp\n",
      "[0 1 8 5 4 2 3]\n",
      "Parch\n",
      "[0 2 1 3 6 4 5]\n",
      "Fare\n",
      "[151.55    14.4542   7.925   69.55    46.9     31.275    7.8958  35.5\n",
      "   0.      26.      23.25    15.5      7.7875  13.5      6.4958  26.55\n",
      "   7.5208   7.2292  53.1     25.4667  31.3875   8.6625  34.0208   7.125\n",
      "  52.       7.8875  14.4583  83.1583   8.05    90.       7.725   39.6\n",
      "  21.075    7.7333   7.25    77.2875   9.5     12.65    10.5     55.\n",
      "   7.6292   7.75     7.8542  24.15    57.9792  15.      39.6875   7.225\n",
      " 227.525   17.8      9.5875 113.275    7.8292  13.      30.5      9.\n",
      "  71.       4.0125   7.05    78.85     8.85    27.75    27.7208 153.4625\n",
      "   8.3     19.2583  14.5    133.65    76.7292  26.2833  20.525    7.8792\n",
      "  29.7     15.7417  30.6958  51.8625  81.8583  56.4958  39.       7.4958\n",
      "   7.7958   7.55    12.      93.5     21.      12.35    16.1     78.2667\n",
      "  35.      55.9      7.8     30.      18.      26.2875  83.475   59.4\n",
      "  77.9583  28.7125  56.9292   7.65    22.3583  20.575  134.5     37.0042\n",
      "  41.5792  25.925    7.7375  15.2458 512.3292  18.75    66.6    110.8833\n",
      "  16.      86.5     19.9667  33.      16.7    135.6333  11.5     30.0708\n",
      "   8.0292  27.      24.     221.7792 263.     262.375   91.0792  26.25\n",
      "  79.65    50.      12.2875   7.3125  79.2     36.75    29.125   19.5\n",
      "  34.375  247.5208   8.5167  12.275    7.1417  20.25    57.      52.5542\n",
      "   6.75     6.45    15.55    69.3     55.4417  20.2125   9.225   13.8583\n",
      "   6.4375   8.1125  33.5     12.525   11.2417   7.775   49.5042 120.\n",
      "  61.3792  49.5     29.     164.8667  15.05    23.      10.5167  11.1333\n",
      "  21.6792  23.45     9.35    14.4     82.1708 146.5208  14.1083   7.875\n",
      "  73.5     12.475    8.1375   7.0542  89.1042  26.3875  15.9      6.95\n",
      "   6.2375  22.025   32.5     15.85    27.9     32.3208  18.7875  15.1\n",
      "   9.825    5.       9.8417   6.8583   8.6833 211.5     13.7917  65.\n",
      "  34.6542  13.4167 211.3375  76.2917  25.9292  13.8625  15.0458   6.975\n",
      "  50.4958   9.475   38.5     31.       7.7417   7.0458  71.2833  61.175\n",
      "   7.7292 108.9     10.1708  15.75    25.5875  28.5      8.6542]\n",
      "Embarked\n",
      "['S' 'C' 'Q']\n"
     ]
    }
   ],
   "source": [
    "# Analize the value in each feature\n",
    "for i in data_train.drop(labels=[\"Name\", \"Ticket\",\"PassengerId\"],axis=1).columns:\n",
    "    print(i)\n",
    "    print(data_train[i].unique())"
   ]
  },
  {
   "cell_type": "markdown",
   "metadata": {},
   "source": [
    "## 1. Dùng các features: Sex, Pclass, và Embarked để xây dựng thuật toán Naive Bayes Multinomial. "
   ]
  },
  {
   "cell_type": "code",
   "execution_count": 7,
   "metadata": {},
   "outputs": [],
   "source": [
    "def get_features(data):\n",
    "    \"\"\"\n",
    "        Purpose: get feature from data\n",
    "        Input: dataframe\n",
    "        Output: features\n",
    "    \"\"\"\n",
    "    Survived=data[\"Survived\"].values\n",
    "    Pclass=data[\"Pclass\"].values\n",
    "    Sex=data[\"Sex\"].values\n",
    "    SibSp=data[\"SibSp\"].values\n",
    "    Parch=data[\"Parch\"].values\n",
    "    Embarked=data[\"Embarked\"].values\n",
    "    Fare=data[\"Fare\"].values\n",
    "    return Survived, Pclass, Sex, SibSp, Parch, Embarked,Fare"
   ]
  },
  {
   "cell_type": "code",
   "execution_count": 8,
   "metadata": {},
   "outputs": [],
   "source": [
    "Survived_train, Pclass_train, Sex_train, SibSp_train, Parch_train,Embarked_train,Fare_train=get_features(data = data_train)\n",
    "Survived_test, Pclass_test, Sex_test, SibSp_test, Parch_test,Embarked_test,Fare_test=get_features(data = data_test)"
   ]
  },
  {
   "cell_type": "markdown",
   "metadata": {},
   "source": [
    "$P(Feature)*P(X|Feature)$"
   ]
  },
  {
   "cell_type": "markdown",
   "metadata": {},
   "source": [
    "Build algorithm with Multinomial"
   ]
  },
  {
   "cell_type": "code",
   "execution_count": 9,
   "metadata": {},
   "outputs": [],
   "source": [
    "#Xác xuất survived và notsurvived\n",
    "# P_Survived=0.5\n",
    "# P_notSurvived=0.5\n",
    "# Tính xác suất từ label\n",
    "data1_train=data_train[['Sex','Pclass','Embarked','Survived']]\n",
    "data1_test=data_test[['Sex','Pclass','Embarked','Survived']]\n",
    "P_Survived=data1_train.Survived.value_counts()[1]/len(data1_train.Survived)\n",
    "P_notSurvived=data1_train.Survived.value_counts()[0]/len(data1_train.Survived)\n",
    "##Survived\n",
    "P_SexisMale_Survived= np.sum((Sex_train[Survived_train==1]==\"male\"))/np.sum((Survived_train==1))\n",
    "P_SexisFemale_Survived=np.sum((Sex_train[Survived_train==1]==\"female\"))/np.sum((Survived_train==1))\n",
    "##Tính xác xuất hậu nghiệm trên tập (P(X|Survived) trên tập test)\n",
    "P_Sex_Survived= P_SexisMale_Survived*(Sex_test==\"male\").astype(float) +P_SexisFemale_Survived*(Sex_test==\"female\").astype(float)\n",
    "\n",
    "##notSurvivied\n",
    "P_SexisMale_notSurvived= np.sum((Sex_train[Survived_train==0]==\"male\"))/np.sum((Survived_train==0))\n",
    "P_SexisFemale_notSurvived=np.sum((Sex_train[Survived_train==0]==\"female\"))/np.sum((Survived_train==0))\n",
    "##Tính xác xuất hậu nghiệm trên tập (P(X|notSurvived) trên tập test)\n",
    "P_Sex_notSurvived= P_SexisMale_notSurvived*(Sex_test==\"male\").astype(float) +P_SexisFemale_notSurvived*(Sex_test==\"female\").astype(float)"
   ]
  },
  {
   "cell_type": "code",
   "execution_count": null,
   "metadata": {},
   "outputs": [],
   "source": []
  },
  {
   "cell_type": "code",
   "execution_count": 10,
   "metadata": {},
   "outputs": [],
   "source": [
    "#Sex\n",
    "##Survived\n",
    "P_pc1_Survived= np.sum((Pclass_train[Survived_train==1]==1))/np.sum((Survived_train==1))\n",
    "P_pc2_Survived=np.sum((Pclass_train[Survived_train==1]==2))/np.sum((Survived_train==1))\n",
    "P_pc3_Survived=np.sum((Pclass_train[Survived_train==1]==3))/np.sum((Survived_train==1))\n",
    "\n",
    "##Tính xác xuất hậu nghiệm trên tập (P(X|Survived) trên tập test)\n",
    "P_pc_Survived= P_pc1_Survived*(Pclass_test==1).astype(float) +P_pc2_Survived*(Pclass_test==2).astype(float) +P_pc3_Survived*(Pclass_test==3).astype(float)\n",
    "#P_pc_Survived= P_pc1_Survived*(Pclass_test==\"1\").astype(float) +P_pc2_Survived*(Pclass_test==\"2\").astype(float) +P_pc3_Survived*(Pclass_test==\"3\").astype(float)\n",
    "\n",
    "##notSurvivied\n",
    "P_pc1_notSurvived= np.sum((Pclass_train[Survived_train==0]==1))/np.sum((Survived_train==0))\n",
    "P_pc2_notSurvived=np.sum((Pclass_train[Survived_train==0]==2))/np.sum((Survived_train==0))\n",
    "P_pc3_notSurvived=np.sum((Pclass_train[Survived_train==0]==3))/np.sum((Survived_train==0))\n",
    "##Tính xác xuất hậu nghiệm trên tập (P(X|notSurvived) trên tập test)\n",
    "P_pc_notSurvived= P_pc1_notSurvived*(Pclass_test==1).astype(float) +P_pc2_notSurvived*(Pclass_test==2).astype(float) +P_pc3_notSurvived*(Pclass_test==3).astype(float)\n",
    "#P_pc_notSurvived= P_pc1_notSurvived*(Pclass_test==\"1\").astype(float) +P_pc2_notSurvived*(Pclass_test==\"2\").astype(float) +P_pc3_notSurvived*(Pclass_test==\"3\").astype(float)"
   ]
  },
  {
   "cell_type": "code",
   "execution_count": 11,
   "metadata": {},
   "outputs": [],
   "source": [
    "##Survived\n",
    "P_EmbarkedS_Survived= np.sum((Embarked_train[Survived_train==1]=='S'))/np.sum((Survived_train==1))\n",
    "P_EmbarkedC_Survived=np.sum((Embarked_train[Survived_train==1]=='C'))/np.sum((Survived_train==1))\n",
    "P_EmbarkedQ_Survived=np.sum((Embarked_train[Survived_train==1]=='Q'))/np.sum((Survived_train==1))\n",
    "\n",
    "##Tính xác xuất hậu nghiệm trên tập (P(X|Survived) trên tập test)\n",
    "P_Embarked_Survived= P_EmbarkedS_Survived*(Embarked_test=='S').astype(float) +P_EmbarkedC_Survived*(Embarked_test=='C').astype(float) +P_EmbarkedQ_Survived*(Embarked_test=='Q').astype(float)\n",
    "#P_pc_Survived= P_pc1_Survived*(Pclass_test==\"1\").astype(float) +P_pc2_Survived*(Pclass_test==\"2\").astype(float) +P_pc3_Survived*(Pclass_test==\"3\").astype(float)\n",
    "\n",
    "##notSurvivied\n",
    "P_EmbarkedS_notSurvived= np.sum((Embarked_train[Survived_train==0]=='S'))/np.sum((Survived_train==0))\n",
    "P_EmbarkedC_notSurvived=np.sum((Embarked_train[Survived_train==0]=='C'))/np.sum((Survived_train==0))\n",
    "P_EmbarkedQ_notSurvived=np.sum((Embarked_train[Survived_train==0]=='Q'))/np.sum((Survived_train==0))\n",
    "##Tính xác xuất hậu nghiệm trên tập (P(X|notSurvived) trên tập test)\n",
    "P_Embarked_notSurvived= P_EmbarkedS_notSurvived*(Embarked_test=='S').astype(float)+P_EmbarkedC_notSurvived*(Embarked_test=='C').astype(float) +P_EmbarkedQ_notSurvived*(Embarked_test=='Q').astype(float)"
   ]
  },
  {
   "cell_type": "code",
   "execution_count": null,
   "metadata": {},
   "outputs": [],
   "source": []
  },
  {
   "cell_type": "code",
   "execution_count": 12,
   "metadata": {},
   "outputs": [
    {
     "data": {
      "text/plain": [
       "0.7808988764044944"
      ]
     },
     "execution_count": 12,
     "metadata": {},
     "output_type": "execute_result"
    }
   ],
   "source": [
    "P_Survived_combine_1=P_Survived*(P_Sex_Survived*P_pc_Survived*P_Embarked_Survived)\n",
    "P_notSurvived_combine_1=P_notSurvived*(P_Sex_notSurvived*P_pc_notSurvived*P_Embarked_notSurvived)\n",
    "\n",
    "y_pred_multi=(P_Survived_combine_1>P_notSurvived_combine_1).astype(int)\n",
    "\n",
    "# Tính accuracy score\n",
    "metrics.accuracy_score(Survived_test,y_pred_multi)\n",
    "#np.mean((P_Survived_combine_1>P_notSurvived_combine_1).astype(float)==Survived_test)"
   ]
  },
  {
   "cell_type": "code",
   "execution_count": 13,
   "metadata": {},
   "outputs": [],
   "source": [
    "\n",
    "train1=data1_train.drop(['Survived'],axis=1)\n",
    "test1= data1_test.drop(['Survived'],axis=1)"
   ]
  },
  {
   "cell_type": "code",
   "execution_count": 14,
   "metadata": {},
   "outputs": [],
   "source": [
    "from sklearn.preprocessing import LabelEncoder\n",
    "LE=LabelEncoder()\n",
    "train1['Sex']=LE.fit_transform(train1['Sex'])\n",
    "train1['Pclass']=LE.fit_transform(train1['Pclass'])\n",
    "train1['Embarked']=LE.fit_transform(train1['Embarked'])\n",
    "\n",
    "\n",
    "test1['Sex']=LE.fit_transform(test1['Sex'])\n",
    "test1['Pclass']=LE.fit_transform(test1['Pclass'])\n",
    "test1['Embarked']=LE.fit_transform(test1['Embarked'])"
   ]
  },
  {
   "cell_type": "code",
   "execution_count": null,
   "metadata": {},
   "outputs": [],
   "source": []
  },
  {
   "cell_type": "code",
   "execution_count": 15,
   "metadata": {},
   "outputs": [
    {
     "data": {
      "text/plain": [
       "0.7808988764044944"
      ]
     },
     "execution_count": 15,
     "metadata": {},
     "output_type": "execute_result"
    }
   ],
   "source": [
    "from sklearn.naive_bayes import CategoricalNB\n",
    "\n",
    "nb = CategoricalNB().fit(train1, Survived_train)\n",
    "nb.score(test1,Survived_test)"
   ]
  },
  {
   "cell_type": "markdown",
   "metadata": {},
   "source": [
    "## 2. Dùng các features: SibSp,\tParch, và Fare để xây dựng thuật toán Naive Bayes Gaussian (Khỏi normalize). "
   ]
  },
  {
   "cell_type": "markdown",
   "metadata": {},
   "source": [
    "### Gaussian\n",
    "$$p(x_i|c)=P(x_i|\\mu_{ci},\\sigma_{ci}^2)=\\frac{1}{\\sqrt{2\\pi\\sigma_{ci}^2}}exp(-\\frac{(x_i-\\mu_{ci})^2}{2\\sigma_{ci}^2})$$"
   ]
  },
  {
   "cell_type": "code",
   "execution_count": 16,
   "metadata": {},
   "outputs": [],
   "source": [
    "\n",
    "\n",
    "## tính tham số\n",
    "Sibsp_mean_Survived = np.mean(SibSp_train[Survived_train==1])\n",
    "Sibsp_std_Survived = np.std(SibSp_train[Survived_train==1])\n",
    "\n",
    "Sibsp_mean_notSurvived = np.mean(SibSp_train[Survived_train==0])\n",
    "Sibsp_std_notSurvived = np.std(SibSp_train[Survived_train==0])\n",
    "\n",
    "def normal(x, mean, std):\n",
    "    return 1/(np.sqrt(2*np.pi)*std)*np.exp(-np.square(x-mean)/(2*np.square(std)))\n",
    "\n",
    "## P(X|Sur) và P(X|notSur)\n",
    "P_SibSp_Survived = normal(SibSp_test, Sibsp_mean_Survived , Sibsp_std_Survived )\n",
    "P_SibSp_notSurvived = normal(SibSp_test, Sibsp_mean_notSurvived, Sibsp_std_notSurvived)\n",
    "\n",
    "\n",
    "#P_Survived_combine=P_Survived*P_SibSp_Survived\n",
    "#P_notSurvived_combine= P_notSurvived*P_SibSp_notSurvived\n",
    "\n",
    "# print(np.mean((P_Survived_combine>P_notSurvived_combine).astype(int)==Survived_test))\n",
    "\n",
    "# ## Dùng sklearn\n",
    "# from sklearn.naive_bayes import GaussianNB\n",
    "# nb = GaussianNB().fit(SibSp_train.reshape(-1,1), Survived_train)\n",
    "# print(np.mean(Survived_test == nb.predict(SibSp_test.reshape(-1,1))))\n"
   ]
  },
  {
   "cell_type": "code",
   "execution_count": 17,
   "metadata": {},
   "outputs": [],
   "source": [
    "\n",
    "\n",
    "## tính tham số\n",
    "Parch_mean_Survived = np.mean(Parch_train[Survived_train==1])\n",
    "Parch_std_Survived = np.std(Parch_train[Survived_train==1])\n",
    "\n",
    "Parch_mean_notSurvived = np.mean(Parch_train[Survived_train==0])\n",
    "Parch_std_notSurvived = np.std(Parch_train[Survived_train==0])\n",
    "\n",
    "\n",
    "## P(X|Sur) và P(X|notSur)\n",
    "P_Parch_Survived = normal(Parch_test, Parch_mean_Survived , Parch_std_Survived )\n",
    "P_Parch_notSurvived = normal(Parch_test, Parch_mean_notSurvived, Parch_std_notSurvived)\n",
    "\n",
    "\n",
    "# P_Survived_combine=P_Survived*P_Parch_Survived\n",
    "# P_notSurvived_combine= P_notSurvived*P_Parch_notSurvived\n",
    "\n",
    "# print(np.mean((P_Survived_combine<P_notSurvived_combine).astype(int)==Survived_test))\n",
    "\n",
    "# ## Dùng sklearn\n",
    "# from sklearn.naive_bayes import GaussianNB\n",
    "# nb = GaussianNB().fit(Parch_train.reshape(-1,1), Survived_train)\n",
    "# print(np.mean(Survived_test == nb.predict(Parch_test.reshape(-1,1))))"
   ]
  },
  {
   "cell_type": "code",
   "execution_count": 18,
   "metadata": {},
   "outputs": [
    {
     "name": "stdout",
     "output_type": "stream",
     "text": [
      "0.6910112359550562\n"
     ]
    }
   ],
   "source": [
    "\n",
    "\n",
    "## tính tham số\n",
    "Fare_mean_Survived = np.mean(Fare_train[Survived_train==1])\n",
    "Fare_std_Survived = np.std(Fare_train[Survived_train==1])\n",
    "\n",
    "Fare_mean_notSurvived = np.mean(Fare_train[Survived_train==0])\n",
    "Fare_std_notSurvived = np.std(Fare_train[Survived_train==0])\n",
    "\n",
    "\n",
    "## P(X|Sur) và P(X|notSur)\n",
    "P_Fare_Survived = normal(Fare_test, Fare_mean_Survived , Fare_std_Survived )\n",
    "P_Fare_notSurvived = normal(Fare_test, Fare_mean_notSurvived, Fare_std_notSurvived)\n",
    "\n",
    "\n",
    "P_Survived_combine=P_Survived*P_SibSp_Survived*P_Parch_Survived*P_Fare_Survived\n",
    "P_notSurvived_combine= P_notSurvived*P_SibSp_notSurvived*P_Parch_notSurvived*P_Fare_notSurvived\n",
    "\n",
    "print(np.mean((P_Survived_combine>P_notSurvived_combine).astype(int)==Survived_test))\n",
    "# print(((P_Survived_combine>P_notSurvived_combine).astype(int)==Survived_test))\n",
    "\n",
    "# ## Dùng sklearn\n",
    "# from sklearn.naive_bayes import GaussianNB\n",
    "# nb = GaussianNB().fit(Fare_train.reshape(-1,1), Survived_train)\n",
    "# print(np.mean(Survived_test == nb.predict(Fare_test.reshape(-1,1))))\n",
    "# #print((Survived_test == nb.predict(Fare_test.reshape(-1,1))))\n"
   ]
  },
  {
   "cell_type": "code",
   "execution_count": 19,
   "metadata": {},
   "outputs": [
    {
     "data": {
      "text/plain": [
       "0.6797752808988764"
      ]
     },
     "execution_count": 19,
     "metadata": {},
     "output_type": "execute_result"
    }
   ],
   "source": [
    "# Compare with scikit-learn\n",
    "data2_train=data_train[['SibSp','Parch','Fare','Survived']]\n",
    "data2_test=data_test[['SibSp','Parch','Fare','Survived']]\n",
    "\n",
    "train2=data2_train.drop(['Survived'],axis=1)\n",
    "test2= data2_test.drop(['Survived'],axis=1)\n",
    "from sklearn.naive_bayes import GaussianNB\n",
    "\n",
    "nb = CategoricalNB().fit(train2, Survived_train)\n",
    "nb.score(test2,Survived_test)"
   ]
  },
  {
   "cell_type": "markdown",
   "metadata": {},
   "source": [
    "## 3. Từ bộ dữ liệu liên minh hãy xây dựng thuật toán Naive Bayes bằng cách dùng tất cả features (mix cả Multinomial và Gaussian. Lưu ý: Khỏi chia tập train, test. Dự đoán thẳng trên tập train)"
   ]
  },
  {
   "cell_type": "code",
   "execution_count": 20,
   "metadata": {},
   "outputs": [
    {
     "data": {
      "text/html": [
       "<div>\n",
       "<style scoped>\n",
       "    .dataframe tbody tr th:only-of-type {\n",
       "        vertical-align: middle;\n",
       "    }\n",
       "\n",
       "    .dataframe tbody tr th {\n",
       "        vertical-align: top;\n",
       "    }\n",
       "\n",
       "    .dataframe thead th {\n",
       "        text-align: right;\n",
       "    }\n",
       "</style>\n",
       "<table border=\"1\" class=\"dataframe\">\n",
       "  <thead>\n",
       "    <tr style=\"text-align: right;\">\n",
       "      <th></th>\n",
       "      <th>killsDiff</th>\n",
       "      <th>minionsKilledDiff</th>\n",
       "      <th>wardPlacedDiff</th>\n",
       "      <th>firstBlood</th>\n",
       "      <th>heralds</th>\n",
       "      <th>dragons</th>\n",
       "      <th>teamWins</th>\n",
       "    </tr>\n",
       "  </thead>\n",
       "  <tbody>\n",
       "    <tr>\n",
       "      <th>0</th>\n",
       "      <td>3</td>\n",
       "      <td>-2</td>\n",
       "      <td>13</td>\n",
       "      <td>blue</td>\n",
       "      <td>none</td>\n",
       "      <td>none</td>\n",
       "      <td>red</td>\n",
       "    </tr>\n",
       "    <tr>\n",
       "      <th>1</th>\n",
       "      <td>0</td>\n",
       "      <td>-66</td>\n",
       "      <td>0</td>\n",
       "      <td>red</td>\n",
       "      <td>red</td>\n",
       "      <td>red</td>\n",
       "      <td>red</td>\n",
       "    </tr>\n",
       "    <tr>\n",
       "      <th>2</th>\n",
       "      <td>-4</td>\n",
       "      <td>-17</td>\n",
       "      <td>0</td>\n",
       "      <td>red</td>\n",
       "      <td>none</td>\n",
       "      <td>blue</td>\n",
       "      <td>red</td>\n",
       "    </tr>\n",
       "    <tr>\n",
       "      <th>3</th>\n",
       "      <td>-1</td>\n",
       "      <td>-34</td>\n",
       "      <td>28</td>\n",
       "      <td>red</td>\n",
       "      <td>blue</td>\n",
       "      <td>none</td>\n",
       "      <td>red</td>\n",
       "    </tr>\n",
       "    <tr>\n",
       "      <th>4</th>\n",
       "      <td>0</td>\n",
       "      <td>-15</td>\n",
       "      <td>58</td>\n",
       "      <td>red</td>\n",
       "      <td>none</td>\n",
       "      <td>red</td>\n",
       "      <td>red</td>\n",
       "    </tr>\n",
       "  </tbody>\n",
       "</table>\n",
       "</div>"
      ],
      "text/plain": [
       "   killsDiff  minionsKilledDiff  wardPlacedDiff firstBlood heralds dragons  \\\n",
       "0          3                 -2              13       blue    none    none   \n",
       "1          0                -66               0        red     red     red   \n",
       "2         -4                -17               0        red    none    blue   \n",
       "3         -1                -34              28        red    blue    none   \n",
       "4          0                -15              58        red    none     red   \n",
       "\n",
       "  teamWins  \n",
       "0      red  \n",
       "1      red  \n",
       "2      red  \n",
       "3      red  \n",
       "4      red  "
      ]
     },
     "execution_count": 20,
     "metadata": {},
     "output_type": "execute_result"
    }
   ],
   "source": [
    "#Chuẩn bị data cho câu 3\n",
    "import pandas as pd\n",
    "df = pd.read_csv(\"https://raw.githubusercontent.com/dinhvietcuong1996/Lab-MachineLearningCourse/master/Lab04/lienminh.csv\")\n",
    "df.head()"
   ]
  },
  {
   "cell_type": "code",
   "execution_count": 21,
   "metadata": {},
   "outputs": [],
   "source": [
    "# Split data by using the sklearn\n",
    "from sklearn.model_selection import train_test_split\n",
    "df_train, df_test = train_test_split(df, test_size=0.2, \n",
    "                                        random_state=42)"
   ]
  },
  {
   "cell_type": "code",
   "execution_count": 22,
   "metadata": {},
   "outputs": [
    {
     "name": "stdout",
     "output_type": "stream",
     "text": [
      "killsDiff\n",
      "[ -2  -5   3  -3   6   4   1   5  -1   2  -7  -4  -8   0  10   8  -6  12\n",
      "   9  -9   7 -10 -13  11 -12  16 -11 -15  13  14 -17  15 -14]\n",
      "minionsKilledDiff\n",
      "[ -61  -30  -36    7   16   -2   15    2  -19   25  -45    6  -43    9\n",
      "   27   -3  -62   30  -17    5  -82  -18   -9  -27   -4  -14   14   57\n",
      "   37  -76  -54  -22   23   31  -12  -55   55  -25  -40   51  -37   -8\n",
      "  -39    8   19   -6  -10   -1   13   10  -24  -51   24   41  -26  -13\n",
      "   32    3  -50    0   26   -5   12   38   21   68   74  -49  -16  -11\n",
      "   44  -23  -48   40   43  -29   18    4   17   48  -32  -21   61   22\n",
      "   46  -31   28  -52   92  -20  -15    1  -60   35  -47  -68  -41   11\n",
      "   20   -7  -35   34  -59  -42   58  -44   49   63   29   60  -38  -34\n",
      "   47   33   54   42   45  -57   62  -66   36   52  -33   39  -28  -64\n",
      "  -70  -58   85   50   69   59  -81  -46   86  -90   65  -56  -53   67\n",
      "   77  104  -69  -83  -78  -63   70  -74  -65  -77   98  -72  -86 -113\n",
      "   78  -73   87   89  -79  117   53   82   72   80 -111   64  -67   76\n",
      "   83 -101  115   66   73   56   88  -87 -104  -71  -85  -99  -93   95\n",
      "  111   84   99  102  -94   71   96 -105  103  -80  -75   81   90   75\n",
      "   79  -84   93  -98  127  110 -117  -91  -88  -92]\n",
      "wardPlacedDiff\n",
      "[   2   22   59  -19  -32  -16    0    8   -1  -78   -4   38   -5    1\n",
      "   -2   10   24    6   -3  -23    9    5  -42    4   35  -20  -65   74\n",
      "  -70   29   28  -11  -26    7   11  -30   73  -28  -43   63   67  128\n",
      "    3   37   27   19   16   33   21   71  -55   15   12   17   -8  -24\n",
      "  -61   -6   40   23   46   18   13   84   57   31  -35  -36  -17 -129\n",
      "   -7  -25   41   -9  151  -22   60  -39  103  -34  -46   64  -33   69\n",
      "   39   53  -66  -14   20  -44  -15   32   25  -13   30   14  -12   65\n",
      "  -48  -31  -98 -126   48   58  -50 -131  -21  -10   36  -27   90   26\n",
      "  -41   42  132  -49  -38 -218   44  -18   50  -29   34   76   45   56\n",
      "  -47   54   61  -71  -57  -77   92   66  -59   79  130   98   88  -67\n",
      "   47 -111  141  111 -146  -79  -45  -63   70  123   86   80  113   94\n",
      "  -60  -37  -72 -103 -142  190  -83  -74 -143  -68  149  -92 -189   95\n",
      " -107 -104  -58  -91  108   78   43  -99   49  -62  -56   72  109   55\n",
      "   52  125  -54  100   75  -73  -40   89  158 -122  -52  107  -69   96\n",
      "  -64   51  -90  234 -174 -115 -101 -173  -51  131 -254  102  116 -123\n",
      " -168 -108  140 -114  135  110  134  -75   62   77 -120 -105  146  137\n",
      "  -80  -76 -102  -87 -130  142  120  -85  119  192   91  -84  129 -200\n",
      "  -86   68 -121 -155  153  -53  161  -89   83 -156  -93 -106   81 -113\n",
      " -187   93  118 -144 -149  195 -110  117 -154 -127 -260  -88 -117 -128\n",
      " -109 -150  -82 -148]\n",
      "firstBlood\n",
      "['blue' 'red']\n",
      "heralds\n",
      "['red' 'none' 'blue']\n",
      "dragons\n",
      "['blue' 'none' 'red']\n",
      "teamWins\n",
      "['blue' 'red']\n"
     ]
    }
   ],
   "source": [
    "# Analize the value in each feature\n",
    "for i in df_train.columns:\n",
    "    print(i)\n",
    "    print(df_train[i].unique())"
   ]
  },
  {
   "cell_type": "code",
   "execution_count": 23,
   "metadata": {},
   "outputs": [],
   "source": [
    "killsDiff = df['killsDiff']\n",
    "minionsKilledDiff = df['minionsKilledDiff']\n",
    "wardPlacedDiff\t = df['wardPlacedDiff']\n",
    "firstBlood = df['firstBlood']\n",
    "heralds = df['heralds']\n",
    "dragons = df['dragons']\n",
    "\n",
    "teamWins = df['teamWins']"
   ]
  },
  {
   "cell_type": "code",
   "execution_count": 24,
   "metadata": {},
   "outputs": [],
   "source": [
    "# killsDiff_train, minionsKilledDiff_train, wardPlacedDif_train, firstBlood_train, heralds_train,dragons_train,teamWins_train=LOL_feature(data = df_train)\n",
    "# killsDiff_test, minionsKilledDiff_test, wardPlacedDif_test, firstBlood_test, heralds_test,dragons_test,teamWins_test=LOL_feature(data = df_test)"
   ]
  },
  {
   "cell_type": "code",
   "execution_count": 25,
   "metadata": {},
   "outputs": [],
   "source": [
    "# Tính xác suất từ label\n",
    "P_blueWins=teamWins.value_counts()['blue']/len(teamWins)\n",
    "P_redWins=teamWins.value_counts()['red']/len(teamWins)"
   ]
  },
  {
   "cell_type": "markdown",
   "metadata": {},
   "source": [
    "#### Gaussian"
   ]
  },
  {
   "cell_type": "code",
   "execution_count": 26,
   "metadata": {},
   "outputs": [],
   "source": [
    "\n",
    "\n",
    "## killsDiff\n",
    "killsDiff_mean_blueWins=np.mean(killsDiff[teamWins=='blue'])\n",
    "killsDiff_std_blueWins=np.std(killsDiff[teamWins=='blue'])\n",
    "\n",
    "killsDiff_mean_redWins=np.mean(killsDiff[teamWins=='red'])\n",
    "killsDiff_std_redWins=np.std(killsDiff[teamWins=='red'])\n",
    "\n",
    "## minionsKilledDiff\n",
    "minionsKilledDiff_mean_blueWins=np.mean(minionsKilledDiff[teamWins=='blue'])\n",
    "minionsKilledDiff_std_blueWins=np.std(minionsKilledDiff[teamWins=='blue'])\n",
    "\n",
    "minionsKilledDiff_mean_redWins=np.mean(minionsKilledDiff[teamWins=='red'])\n",
    "minionsKilledDiff_std_redWins=np.std(minionsKilledDiff[teamWins=='red'])\n",
    "\n",
    "## wardPlacedDiff\n",
    "wardPlacedDiff_mean_blueWins=np.mean(wardPlacedDiff[teamWins=='blue'])\n",
    "wardPlacedDiff_std_blueWins=np.std(wardPlacedDiff[teamWins=='blue'])\n",
    "\n",
    "wardPlacedDiff_mean_redWins=np.mean(wardPlacedDiff[teamWins=='red'])\n",
    "wardPlacedDiff_std_redWins=np.std(wardPlacedDiff[teamWins=='red'])\n",
    "\n",
    "\n"
   ]
  },
  {
   "cell_type": "code",
   "execution_count": 27,
   "metadata": {},
   "outputs": [],
   "source": [
    "### P(X|blue) và P(X|red)\n",
    "\n",
    "## killsDiff\n",
    "P_killsDiff_blueWins=normal(killsDiff,killsDiff_mean_blueWins,killsDiff_std_blueWins)\n",
    "P_killsDiff_redWins=normal(killsDiff,killsDiff_mean_redWins,killsDiff_std_redWins)\n",
    "\n",
    "## minionsKilledDiff\n",
    "P_minionsKilledDiff_blueWins=normal(minionsKilledDiff,minionsKilledDiff_mean_blueWins,minionsKilledDiff_std_blueWins)\n",
    "P_minionsKilledDiff_redWins=normal(minionsKilledDiff,minionsKilledDiff_mean_redWins,minionsKilledDiff_std_redWins)\n",
    "\n",
    "## wardPlacedDiff\n",
    "P_wardPlacedDiff_blueWins=normal(wardPlacedDiff,wardPlacedDiff_mean_blueWins,wardPlacedDiff_std_blueWins)\n",
    "P_wardPlacedDiff_redWins=normal(wardPlacedDiff,wardPlacedDiff_mean_redWins,wardPlacedDiff_std_redWins)"
   ]
  },
  {
   "cell_type": "markdown",
   "metadata": {},
   "source": [
    "### Multinomial"
   ]
  },
  {
   "cell_type": "code",
   "execution_count": 28,
   "metadata": {},
   "outputs": [],
   "source": [
    "####  Multinomial\n",
    "### firstBlood\n",
    "\n",
    "## blueWins\n",
    "P_fB_bl_blueWins= np.sum((firstBlood[teamWins=='blue']==\"blue\"))/np.sum((teamWins=='blue'))\n",
    "P_fB_r_blueWins=np.sum((firstBlood[teamWins=='blue']==\"red\"))/np.sum((teamWins=='blue'))\n",
    "\n",
    "## P(X|blue)\n",
    "P_fB_blueWins= P_fB_bl_blueWins*(firstBlood==\"blue\").astype(float) +P_fB_r_blueWins*(firstBlood==\"red\").astype(float)\n",
    "\n",
    "\n",
    "## redWins\n",
    "P_fB_bl_redWins= np.sum((firstBlood[teamWins=='red']==\"blue\"))/np.sum((teamWins=='red'))\n",
    "P_fB_r_redWins=np.sum((firstBlood[teamWins=='red']==\"red\"))/np.sum((teamWins=='red'))\n",
    "\n",
    "## P(X|blue)\n",
    "P_fB_redWins= P_fB_bl_redWins*(firstBlood==\"blue\").astype(float) +P_fB_r_redWins*(firstBlood==\"red\").astype(float)\n",
    "\n",
    "\n",
    "### heralds\n",
    "\n",
    "## blueWins\n",
    "P_h_none_blueWins= np.sum((heralds[teamWins=='blue']==\"none\"))/np.sum((teamWins=='blue'))\n",
    "P_h_bl_blueWins= np.sum((heralds[teamWins=='blue']==\"blue\"))/np.sum((teamWins=='blue'))\n",
    "P_h_r_blueWins=np.sum((heralds[teamWins=='blue']==\"red\"))/np.sum((teamWins=='blue'))\n",
    "\n",
    "## P(X|blue)\n",
    "P_h_blueWins= P_h_none_blueWins*(heralds==\"none\").astype(float)+P_h_bl_blueWins*(heralds==\"blue\").astype(float) +P_h_r_blueWins*(heralds==\"red\").astype(float)\n",
    "\n",
    "\n",
    "## redWins\n",
    "P_h_none_redWins= np.sum((heralds[teamWins=='red']==\"none\"))/np.sum((teamWins=='red'))\n",
    "P_h_bl_redWins= np.sum((heralds[teamWins=='red']==\"blue\"))/np.sum((teamWins=='red'))\n",
    "P_h_r_redWins=np.sum((heralds[teamWins=='red']==\"red\"))/np.sum((teamWins=='red'))\n",
    "\n",
    "## P(X|blue)\n",
    "P_h_redWins= P_h_none_redWins*(heralds==\"none\").astype(float)+P_h_bl_redWins*(heralds==\"blue\").astype(float) +P_h_r_redWins*(heralds==\"red\").astype(float)\n",
    "\n",
    "\n",
    "### dragons\n",
    "\n",
    "## blueWins\n",
    "P_dr_none_blueWins= np.sum((dragons[teamWins=='blue']==\"none\"))/np.sum((teamWins=='blue'))\n",
    "P_dr_bl_blueWins= np.sum((dragons[teamWins=='blue']==\"blue\"))/np.sum((teamWins=='blue'))\n",
    "P_dr_r_blueWins=np.sum((dragons[teamWins=='blue']==\"red\"))/np.sum((teamWins=='blue'))\n",
    "\n",
    "## P(X|blue)\n",
    "P_dr_blueWins= P_dr_none_blueWins*(dragons==\"none\").astype(float)+P_dr_bl_blueWins*(dragons==\"blue\").astype(float) +P_dr_r_blueWins*(dragons==\"red\").astype(float)\n",
    "\n",
    "\n",
    "## redWins\n",
    "P_dr_none_redWins= np.sum((dragons[teamWins=='red']==\"none\"))/np.sum((teamWins=='red'))\n",
    "P_dr_bl_redWins= np.sum((dragons[teamWins=='red']==\"blue\"))/np.sum((teamWins=='red'))\n",
    "P_dr_r_redWins=np.sum((dragons[teamWins=='red']==\"red\"))/np.sum((teamWins=='red'))\n",
    "\n",
    "## P(X|blue)\n",
    "P_dr_redWins= P_dr_none_redWins*(dragons==\"none\").astype(float)+P_dr_bl_redWins*(dragons==\"blue\").astype(float) +P_dr_r_redWins*(dragons==\"red\").astype(float)"
   ]
  },
  {
   "cell_type": "code",
   "execution_count": 29,
   "metadata": {},
   "outputs": [
    {
     "data": {
      "text/plain": [
       "0.7116104868913857"
      ]
     },
     "execution_count": 29,
     "metadata": {},
     "output_type": "execute_result"
    }
   ],
   "source": [
    "P_blueWins_combine=P_blueWins*P_killsDiff_blueWins*P_minionsKilledDiff_blueWins*P_wardPlacedDiff_blueWins*P_fB_blueWins*P_h_blueWins*P_dr_blueWins\n",
    "P_redWins_combine=P_redWins*P_killsDiff_redWins*P_minionsKilledDiff_redWins*P_wardPlacedDiff_redWins*P_fB_redWins*P_h_redWins*P_dr_redWins\n",
    "\n",
    "# Kết quả predict\n",
    "y_pred=(P_blueWins_combine>P_redWins_combine).astype(int)\n",
    "\n",
    "temp=teamWins.copy()\n",
    "for i in range(len(df)):\n",
    "    if(temp[i]=='blue'):\n",
    "        temp[i]=1\n",
    "    else:\n",
    "        temp[i]=0\n",
    "y_test=pd.Series(temp,dtype=int)\n",
    "\n",
    "# Calculate accuracy score\n",
    "metrics.accuracy_score(y_test,y_pred)"
   ]
  },
  {
   "cell_type": "code",
   "execution_count": null,
   "metadata": {},
   "outputs": [],
   "source": []
  }
 ],
 "metadata": {
  "kernelspec": {
   "display_name": "Python 3",
   "language": "python",
   "name": "python3"
  },
  "language_info": {
   "codemirror_mode": {
    "name": "ipython",
    "version": 3
   },
   "file_extension": ".py",
   "mimetype": "text/x-python",
   "name": "python",
   "nbconvert_exporter": "python",
   "pygments_lexer": "ipython3",
   "version": "3.8.5"
  }
 },
 "nbformat": 4,
 "nbformat_minor": 2
}
