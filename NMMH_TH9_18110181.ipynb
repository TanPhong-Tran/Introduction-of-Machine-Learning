{
 "cells": [
  {
   "cell_type": "markdown",
   "metadata": {},
   "source": [
    "**Import thư viện**"
   ]
  },
  {
   "cell_type": "code",
   "execution_count": 1,
   "metadata": {},
   "outputs": [],
   "source": [
    "#import các thư viện \n",
    "import tensorflow as tf #thư viện tensorflow\n",
    "import keras #Thư viện keras\n",
    "import numpy as np #Thư viện numpy|\n",
    "import matplotlib.pyplot as plt #Thư viện matplotlib để vẽ đồ thị"
   ]
  },
  {
   "cell_type": "code",
   "execution_count": 2,
   "metadata": {},
   "outputs": [],
   "source": [
    "from keras.models import Sequential\n",
    "from keras.layers import Dense, Dropout, Flatten, Conv2D, MaxPool2D\n",
    "from keras.layers.normalization import BatchNormalization\n",
    "from keras.preprocessing.image import ImageDataGenerator\n",
    "from keras.callbacks import ReduceLROnPlateau"
   ]
  },
  {
   "cell_type": "code",
   "execution_count": 3,
   "metadata": {},
   "outputs": [
    {
     "data": {
      "text/plain": [
       "'2.5.0'"
      ]
     },
     "execution_count": 3,
     "metadata": {},
     "output_type": "execute_result"
    }
   ],
   "source": [
    "#Kiểm tra version của keras\n",
    "keras.__version__"
   ]
  },
  {
   "cell_type": "markdown",
   "metadata": {},
   "source": [
    "**Pre-processing**"
   ]
  },
  {
   "cell_type": "markdown",
   "metadata": {},
   "source": [
    "Trước khi cho ảnh vào model chúng ta nên rescale vào đoạn [0,1] để giữ weights không quá lớn. \n",
    "\n",
    "validation sẽ được dùng như một tập dữ liệu để tune các thông số trên đó. Khi đã train xong trên tập validation, chúng ta sẽ tiến hành kiểm thử trên tập test"
   ]
  },
  {
   "cell_type": "code",
   "execution_count": 4,
   "metadata": {},
   "outputs": [
    {
     "name": "stdout",
     "output_type": "stream",
     "text": [
      "(60000, 28, 28) (60000,) (10000, 28, 28) (10000,)\n",
      "Có 60000 ảnh dùng để train và valid, 10000 ảnh dùng để test\n",
      "Mỗi ảnh có một kênh màu, kích thước 28x28\n",
      "\n",
      "Ảnh đầu tiên của tập train\n",
      "Label đầu tiên của tập train:  5\n"
     ]
    },
    {
     "data": {
      "image/png": "[encoded data removed]",
      "text/plain": [
       "<Figure size 432x288 with 1 Axes>"
      ]
     },
     "metadata": {
      "needs_background": "light"
     },
     "output_type": "display_data"
    }
   ],
   "source": [
    "# Tải dataset MNIST từ tensorflow\n",
    "## MNIST là bài toán dự đoán một ảnh thể hiện ký tự số nào (dùng ảnh trắng đen)\n",
    "## tải MNIST dataset từ keras\n",
    "(X_train, y_train), (X_test, y_test) = tf.keras.datasets.mnist.load_data()\n",
    "##resacle ảnh thành ảnh thực trong đoạn [0,1]\n",
    "X_train, X_test = X_train/255.0, X_test/255.0\n",
    "\n",
    "##in dataset\n",
    "print(X_train.shape, y_train.shape, X_test.shape, y_test.shape)\n",
    "print(\"Có 60000 ảnh dùng để train và valid, 10000 ảnh dùng để test\")\n",
    "print(\"Mỗi ảnh có một kênh màu, kích thước 28x28\")\n",
    "print()\n",
    "\n",
    "## in thử ảnh một ảnh\n",
    "print(\"Ảnh đầu tiên của tập train\")\n",
    "print(\"Label đầu tiên của tập train: \", y_train[0])\n",
    "plt.imshow(X_train[0], cmap='gray')\n",
    "plt.show()\n",
    "\n",
    "#Tách một phần tập train thành tập valid\n",
    "from sklearn.model_selection import train_test_split\n",
    "X_train, X_valid, y_train, y_valid = train_test_split(X_train, y_train, test_size=0.1) # Tách theo tỉ lệ validation/train=1/9"
   ]
  },
  {
   "cell_type": "markdown",
   "metadata": {},
   "source": [
    "### 1. Hãy tạo và huấn luyện một mạng no-ron theo cấu trúc sau trên tập MNIST "
   ]
  },
  {
   "cell_type": "code",
   "execution_count": 5,
   "metadata": {},
   "outputs": [
    {
     "name": "stdout",
     "output_type": "stream",
     "text": [
      "Kích thước input: (None, 28, 28), None tượng trưng cho số lượng ảnh một batch không xác định trước\n",
      "Kích thước sau reshape: (None, 28, 28, 1)\n",
      "Kích thước flatten: (None, 784)\n",
      "Kích thước fc1: (None, 200)\n",
      "Kích thước fc2: (None, 100)\n",
      "Kích thước fc3: (None, 50)\n",
      "Kích thước fc4: (None, 20)\n",
      "Cấu trúc của model: \n",
      "Model: \"model\"\n",
      "_________________________________________________________________\n",
      "Layer (type)                 Output Shape              Param #   \n",
      "=================================================================\n",
      "input_1 (InputLayer)         [(None, 28, 28)]          0         \n",
      "_________________________________________________________________\n",
      "flatten (Flatten)            (None, 784)               0         \n",
      "_________________________________________________________________\n",
      "dense (Dense)                (None, 200)               157000    \n",
      "_________________________________________________________________\n",
      "dense_1 (Dense)              (None, 100)               20100     \n",
      "_________________________________________________________________\n",
      "dense_2 (Dense)              (None, 50)                5050      \n",
      "_________________________________________________________________\n",
      "dense_3 (Dense)              (None, 20)                1020      \n",
      "_________________________________________________________________\n",
      "dense_4 (Dense)              (None, 10)                210       \n",
      "=================================================================\n",
      "Total params: 183,380\n",
      "Trainable params: 183,380\n",
      "Non-trainable params: 0\n",
      "_________________________________________________________________\n"
     ]
    }
   ],
   "source": [
    "## Tạo layer input, mỗi data point có kích thước (28,28)\n",
    "inputs = keras.layers.Input(shape=(28,28))\n",
    "print(\"Kích thước input: {}, None tượng trưng cho số lượng ảnh một batch không xác định trước\".format(inputs.shape))\n",
    "\n",
    "## Reshape input\n",
    "## do input vào lớp convolutional layer cần có 4 chiều, chiều cuối là số kênh,\n",
    "## ảnh mnist là ảnh xám nên chỉ có một kênh\n",
    "inputs_reshape = keras.layers.Reshape((28,28,1))(inputs)\n",
    "print(\"Kích thước sau reshape: {}\".format(inputs_reshape.shape))\n",
    "\n",
    "\n",
    "\n",
    "## Flatten lớp conv trước khi cho vào lớp dense, vì lớp dense yêu cầu input chỉ là vector\n",
    "flatten = keras.layers.Flatten()(inputs)\n",
    "print(\"Kích thước flatten: {}\".format(flatten.shape))\n",
    "\n",
    "dense1= keras.layers.Dense(units=200,activation=\"relu\")(flatten)\n",
    "print(\"Kích thước fc1: {}\".format(dense1.shape))\n",
    "\n",
    "dense2= keras.layers.Dense(units=100,activation=\"relu\")(dense1)\n",
    "print(\"Kích thước fc2: {}\".format(dense2.shape))\n",
    "\n",
    "dense3= keras.layers.Dense(units=50,activation=\"relu\")(dense2)\n",
    "print(\"Kích thước fc3: {}\".format(dense3.shape))\n",
    "\n",
    "dense4= keras.layers.Dense(units=20,activation=\"relu\")(dense3)\n",
    "print(\"Kích thước fc4: {}\".format(dense4.shape))\n",
    "\n",
    "\n",
    "## Lớp Fully conntected với hàm kích hoạt softmax. units là số Node\n",
    "    ### Lưu ý vì đây là lớp để classify nên hàm kích hoạt bắt buộc phải là softmax, \n",
    "softmax = keras.layers.Dense(units=10, activation='softmax')(dense4)\n",
    "\n",
    "\n",
    "\n",
    "## Tạo model, với input là lớp inputs, outputs là lớp softmax\n",
    "model = keras.models.Model(inputs=inputs, outputs=softmax)\n",
    "\n",
    "## Compile model, \n",
    "    ### optimizer là thuật toán tối ưu ở đây dùng adam\n",
    "    ### loss function là hàm mất mát ở đây dùng sparse_categorical_crossentropy\n",
    "    ### metrics: để theo dõi các đánh giá trong quá trình huấn luyện. Đối với tập MNIST chúng ta dùng accuracy trên top1\n",
    "model.compile(optimizer='adam',\n",
    "             loss=tf.keras.losses.sparse_categorical_crossentropy,\n",
    "             metrics=[\"accuracy\"])\n",
    "    \n",
    "\n",
    "## In toàn bộ cấu trúc của model\n",
    "print(\"Cấu trúc của model: \")\n",
    "model.summary()"
   ]
  },
  {
   "cell_type": "code",
   "execution_count": 6,
   "metadata": {},
   "outputs": [
    {
     "name": "stdout",
     "output_type": "stream",
     "text": [
      "Epoch 1/10\n",
      "540/540 [==============================] - 11s 2ms/step - loss: 0.6382 - accuracy: 0.8046 - val_loss: 0.1686 - val_accuracy: 0.9505\n",
      "Epoch 2/10\n",
      "540/540 [==============================] - 1s 1ms/step - loss: 0.1242 - accuracy: 0.9634 - val_loss: 0.1170 - val_accuracy: 0.9642\n",
      "Epoch 3/10\n",
      "540/540 [==============================] - 1s 2ms/step - loss: 0.0792 - accuracy: 0.9756 - val_loss: 0.1010 - val_accuracy: 0.9693\n",
      "Epoch 4/10\n",
      "540/540 [==============================] - 1s 2ms/step - loss: 0.0571 - accuracy: 0.9830 - val_loss: 0.0988 - val_accuracy: 0.9718\n",
      "Epoch 5/10\n",
      "540/540 [==============================] - 1s 2ms/step - loss: 0.0438 - accuracy: 0.9861 - val_loss: 0.1056 - val_accuracy: 0.9698\n",
      "Epoch 6/10\n",
      "540/540 [==============================] - 1s 2ms/step - loss: 0.0310 - accuracy: 0.9898 - val_loss: 0.1179 - val_accuracy: 0.9693\n",
      "Epoch 7/10\n",
      "540/540 [==============================] - 1s 1ms/step - loss: 0.0272 - accuracy: 0.9914 - val_loss: 0.1035 - val_accuracy: 0.9722\n",
      "Epoch 8/10\n",
      "540/540 [==============================] - 1s 1ms/step - loss: 0.0231 - accuracy: 0.9925 - val_loss: 0.1252 - val_accuracy: 0.9700\n",
      "Epoch 9/10\n",
      "540/540 [==============================] - 1s 1ms/step - loss: 0.0212 - accuracy: 0.9930 - val_loss: 0.1164 - val_accuracy: 0.9697\n",
      "Epoch 10/10\n",
      "540/540 [==============================] - 1s 1ms/step - loss: 0.0193 - accuracy: 0.9932 - val_loss: 0.1076 - val_accuracy: 0.9738\n",
      "313/313 [==============================] - 1s 876us/step - loss: 0.0931 - accuracy: 0.9773\n",
      "Loss trên tập test:  0.09307283163070679  Accuracy trên tập test:  0.9772999882698059\n"
     ]
    }
   ],
   "source": [
    "# Dùng hàm fit để bắt đầu train\n",
    "## 2 tham số đầu là 2 numpy array, X_train là ảnh, y_train là label\n",
    "## batch_size: kích thước của data batch\n",
    "## epochs: số epoch tối đa muốn chạy\n",
    "## validation data: model sẽ được đánh giá trên tập valid mỗi epoch\n",
    "history=model.fit(X_train,y_train,\n",
    "                  epochs=10,\n",
    "                  batch_size=100,\n",
    "                  validation_data=(X_valid,y_valid))\n",
    "\n",
    "## Lưu model thành một file\n",
    "model.save_weights(\"first_model.h5\")\n",
    "\n",
    "\n",
    "## Load model\n",
    "model.load_weights(\"first_model.h5\")\n",
    "\n",
    "## Đánh giá model trên tập test\n",
    "test_loss, test_acc = model.evaluate(X_test, y_test)\n",
    "print(\"Loss trên tập test: \", test_loss,\" Accuracy trên tập test: \", test_acc)"
   ]
  },
  {
   "cell_type": "markdown",
   "metadata": {},
   "source": [
    "### 2. Nêu cách tính các kết quả có trong Param # ở câu 1"
   ]
  },
  {
   "cell_type": "markdown",
   "metadata": {},
   "source": [
    "Ta tính theo công thức: param = output * (input + 1) $\\\\$\n",
    "\n",
    "157000 = 200*(784 + 1)\n",
    "\n",
    "20100 = 100*(20 + 1)\n",
    "\n",
    "5050 = 50*(100 + 1)\n",
    "\n",
    "1020 = 20*(50 + 1)\n",
    "\n",
    "210 = 10*(20 + 1)"
   ]
  },
  {
   "cell_type": "markdown",
   "metadata": {},
   "source": [
    "### 3. Cấu trúc ở câu 1 có thể được áp dụng cho bài toán regression được không, nếu có thì phải thay đổi như thế nào?"
   ]
  },
  {
   "cell_type": "markdown",
   "metadata": {},
   "source": [
    "Cấu trúc của bài 1 ta có thể áp dúng được cho bài toán regression.\n",
    "\n",
    "Để áp dụng, ta cần thay thế hàm softmax bằng hàm activation (là sigmoid đối với bài toán logistic regression) hoặc hàm loss đới với linear regression."
   ]
  },
  {
   "cell_type": "markdown",
   "metadata": {},
   "source": [
    "### 4. Thiết kế một mạng Convolution 2D"
   ]
  },
  {
   "cell_type": "code",
   "execution_count": 7,
   "metadata": {},
   "outputs": [
    {
     "name": "stdout",
     "output_type": "stream",
     "text": [
      "Kích thước input: (None, 28, 28), None tượng trưng cho số lượng ảnh một batch không xác định trước\n",
      "Kích thước sau reshape: (None, 28, 28, 1)\n",
      "Kích thước conv: (None, 28, 28, 20), chiều cuối cùng chính là số filter\n",
      "Kích thước sau maxpool: (None, 14, 14, 20)\n",
      "Kích thước flatten: (None, 500)\n",
      "Kích thước fc1: (None, 40)\n",
      "Kích thước fc2: (None, 20)\n",
      "Cấu trúc của model: \n",
      "Model: \"model_1\"\n",
      "_________________________________________________________________\n",
      "Layer (type)                 Output Shape              Param #   \n",
      "=================================================================\n",
      "input_2 (InputLayer)         [(None, 28, 28)]          0         \n",
      "_________________________________________________________________\n",
      "reshape_1 (Reshape)          (None, 28, 28, 1)         0         \n",
      "_________________________________________________________________\n",
      "conv2d (Conv2D)              (None, 28, 28, 20)        520       \n",
      "_________________________________________________________________\n",
      "max_pooling2d (MaxPooling2D) (None, 14, 14, 20)        0         \n",
      "_________________________________________________________________\n",
      "conv2d_1 (Conv2D)            (None, 10, 10, 20)        10020     \n",
      "_________________________________________________________________\n",
      "max_pooling2d_1 (MaxPooling2 (None, 5, 5, 20)          0         \n",
      "_________________________________________________________________\n",
      "flatten_1 (Flatten)          (None, 500)               0         \n",
      "_________________________________________________________________\n",
      "dense_5 (Dense)              (None, 40)                20040     \n",
      "_________________________________________________________________\n",
      "dense_6 (Dense)              (None, 20)                820       \n",
      "_________________________________________________________________\n",
      "dense_7 (Dense)              (None, 10)                210       \n",
      "=================================================================\n",
      "Total params: 31,610\n",
      "Trainable params: 31,610\n",
      "Non-trainable params: 0\n",
      "_________________________________________________________________\n"
     ]
    }
   ],
   "source": [
    "## Tạo layer input, mỗi data point có kích thước (28,28)\n",
    "inputs = keras.layers.Input(shape=(28,28))\n",
    "print(\"Kích thước input: {}, None tượng trưng cho số lượng ảnh một batch không xác định trước\".format(inputs.shape))\n",
    "\n",
    "## Reshape input\n",
    "## do input vào lớp convolutional layer cần có 4 chiều, chiều cuối là số kênh,\n",
    "## ảnh mnist là ảnh xám nên chỉ có một kênh\n",
    "inputs_reshape = keras.layers.Reshape((28,28,1))(inputs)\n",
    "print(\"Kích thước sau reshape: {}\".format(inputs_reshape.shape))\n",
    "\n",
    "## Tạo Convolutional Layer\n",
    "### fileters: số lượng filter\n",
    "### kernel_size: kích thước của filter\n",
    "### strides: bước dịch của filter khi tính convolution\n",
    "### padding: thêm số 0 hoặc không tính khi tính filter ở biên\n",
    "    #### có 2 options: \"same\" là sẽ giữ nguyên kích thước ảnh sau khi qua lớp Convolution, \"valid\" kích thước ảnh sẽ đc tính đúng như công thức\n",
    "### activation: hàm kích hoạt của lớp convolution\n",
    "conv = keras.layers.Convolution2D(filters=20,\n",
    "                                 kernel_size=[5,5],\n",
    "                                 strides=[1,1],\n",
    "                                 padding='same',\n",
    "                                 activation=tf.nn.relu)(inputs_reshape)\n",
    "print(\"Kích thước conv: {}, chiều cuối cùng chính là số filter\".format(conv.shape))\n",
    "\n",
    "## Maxpooling\n",
    "### pool_size: kích thước pool để lấy max\n",
    "### strides: bước dịch của pool \n",
    "maxpool = keras.layers.MaxPool2D(pool_size=[2,2],\n",
    "                                strides=[2,2])(conv)\n",
    "print(\"Kích thước sau maxpool: {}\".format(maxpool.shape))\n",
    "\n",
    "\n",
    "conv1 = keras.layers.Convolution2D(filters=20,\n",
    "                                 kernel_size=[5,5],\n",
    "                                 strides=[1,1],\n",
    "                                 padding='valid',\n",
    "                                 activation=tf.nn.relu)(maxpool)\n",
    "\n",
    "maxpool1 = keras.layers.MaxPool2D(pool_size=[2,2],\n",
    "                                strides=[2,2])(conv1)\n",
    "## Flatten lớp conv trước khi cho vào lớp dense, vì lớp dense yêu cầu input chỉ là vector\n",
    "flatten = keras.layers.Flatten()(maxpool1)\n",
    "print(\"Kích thước flatten: {}\".format(flatten.shape))\n",
    "\n",
    "\n",
    "dense1= keras.layers.Dense(units=40,activation=\"relu\")(flatten)\n",
    "print(\"Kích thước fc1: {}\".format(dense1.shape))\n",
    "\n",
    "dense2= keras.layers.Dense(units=20,activation=\"relu\")(dense1)\n",
    "print(\"Kích thước fc2: {}\".format(dense2.shape))\n",
    "\n",
    "## Lớp Fully conntected với hàm kích hoạt softmax. units là số Node\n",
    "    ### Lưu ý vì đây là lớp để classify nên hàm kích hoạt bắt buộc phải là softmax, \n",
    "softmax = keras.layers.Dense(units=10, activation='softmax')(dense2)\n",
    "\n",
    "\n",
    "\n",
    "## Tạo model, với input là lớp inputs, outputs là lớp softmax\n",
    "model = keras.models.Model(inputs=inputs, outputs=softmax)\n",
    "\n",
    "## Compile model, \n",
    "    ### optimizer là thuật toán tối ưu ở đây dùng adam\n",
    "    ### loss function là hàm mất mát ở đây dùng sparse_categorical_crossentropy\n",
    "    ### metrics: để theo dõi các đánh giá trong quá trình huấn luyện. Đối với tập MNIST chúng ta dùng accuracy trên top1\n",
    "model.compile(optimizer='adam',\n",
    "             loss=tf.keras.losses.sparse_categorical_crossentropy,\n",
    "             metrics=[\"accuracy\"])\n",
    "    \n",
    "\n",
    "## In toàn bộ cấu trúc của model\n",
    "print(\"Cấu trúc của model: \")\n",
    "model.summary()"
   ]
  },
  {
   "cell_type": "code",
   "execution_count": 8,
   "metadata": {},
   "outputs": [
    {
     "name": "stdout",
     "output_type": "stream",
     "text": [
      "Epoch 1/10\n",
      "540/540 [==============================] - 14s 23ms/step - loss: 0.7373 - accuracy: 0.7477 - val_loss: 0.1115 - val_accuracy: 0.9692\n",
      "Epoch 2/10\n",
      "540/540 [==============================] - 12s 23ms/step - loss: 0.0909 - accuracy: 0.9722 - val_loss: 0.0865 - val_accuracy: 0.9752\n",
      "Epoch 3/10\n",
      "540/540 [==============================] - 12s 23ms/step - loss: 0.0668 - accuracy: 0.9799 - val_loss: 0.0868 - val_accuracy: 0.9740\n",
      "Epoch 4/10\n",
      "540/540 [==============================] - 12s 22ms/step - loss: 0.0549 - accuracy: 0.9836 - val_loss: 0.0748 - val_accuracy: 0.9780\n",
      "Epoch 5/10\n",
      "540/540 [==============================] - 12s 22ms/step - loss: 0.0442 - accuracy: 0.9864 - val_loss: 0.0583 - val_accuracy: 0.9833\n",
      "Epoch 6/10\n",
      "540/540 [==============================] - 12s 21ms/step - loss: 0.0364 - accuracy: 0.9884 - val_loss: 0.0460 - val_accuracy: 0.9875\n",
      "Epoch 7/10\n",
      "540/540 [==============================] - 12s 22ms/step - loss: 0.0298 - accuracy: 0.9911 - val_loss: 0.0501 - val_accuracy: 0.9837\n",
      "Epoch 8/10\n",
      "540/540 [==============================] - 12s 23ms/step - loss: 0.0263 - accuracy: 0.9915 - val_loss: 0.0433 - val_accuracy: 0.9862\n",
      "Epoch 9/10\n",
      "540/540 [==============================] - 12s 22ms/step - loss: 0.0229 - accuracy: 0.9925 - val_loss: 0.0556 - val_accuracy: 0.9852\n",
      "Epoch 10/10\n",
      "540/540 [==============================] - 12s 22ms/step - loss: 0.0202 - accuracy: 0.9936 - val_loss: 0.0506 - val_accuracy: 0.9852\n",
      "313/313 [==============================] - 1s 3ms/step - loss: 0.0325 - accuracy: 0.9894\n",
      "Loss trên tập test:  0.032504335045814514  Accuracy trên tập test:  0.9894000291824341\n"
     ]
    }
   ],
   "source": [
    "####Training####\n",
    "# Dùng hàm fit để bắt đầu train\n",
    "## 2 tham số đầu là 2 numpy array, X_train là ảnh, y_train là label\n",
    "## batch_size: kích thước của data batch\n",
    "## epochs: số epoch tối đa muốn chạy\n",
    "## validation data: model sẽ được đánh giá trên tập valid mỗi epoch\n",
    "history=model.fit(X_train,y_train,\n",
    "                  epochs=10,\n",
    "                  batch_size=100,\n",
    "                  validation_data=(X_valid,y_valid))\n",
    "\n",
    "## Lưu model thành một file\n",
    "model.save_weights(\"first_model.h5\")\n",
    "\n",
    "\n",
    "## Load model\n",
    "model.load_weights(\"first_model.h5\")\n",
    "\n",
    "## Đánh giá model trên tập test\n",
    "test_loss, test_acc = model.evaluate(X_test, y_test)\n",
    "print(\"Loss trên tập test: \", test_loss,\" Accuracy trên tập test: \", test_acc)"
   ]
  },
  {
   "cell_type": "code",
   "execution_count": null,
   "metadata": {},
   "outputs": [],
   "source": []
  }
 ],
 "metadata": {
  "kernelspec": {
   "display_name": "Python 3",
   "language": "python",
   "name": "python3"
  },
  "language_info": {
   "codemirror_mode": {
    "name": "ipython",
    "version": 3
   },
   "file_extension": ".py",
   "mimetype": "text/x-python",
   "name": "python",
   "nbconvert_exporter": "python",
   "pygments_lexer": "ipython3",
   "version": "3.8.5"
  }
 },
 "nbformat": 4,
 "nbformat_minor": 4
}
