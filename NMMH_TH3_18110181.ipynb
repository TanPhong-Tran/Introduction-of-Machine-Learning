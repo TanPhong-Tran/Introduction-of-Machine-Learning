{
 "cells": [
  {
   "cell_type": "code",
   "execution_count": 1,
   "metadata": {},
   "outputs": [],
   "source": [
    "import pandas as pd\n",
    "import numpy as np\n",
    "from sklearn.model_selection import train_test_split"
   ]
  },
  {
   "cell_type": "code",
   "execution_count": 2,
   "metadata": {},
   "outputs": [
    {
     "data": {
      "text/html": [
       "<div>\n",
       "<style scoped>\n",
       "    .dataframe tbody tr th:only-of-type {\n",
       "        vertical-align: middle;\n",
       "    }\n",
       "\n",
       "    .dataframe tbody tr th {\n",
       "        vertical-align: top;\n",
       "    }\n",
       "\n",
       "    .dataframe thead th {\n",
       "        text-align: right;\n",
       "    }\n",
       "</style>\n",
       "<table border=\"1\" class=\"dataframe\">\n",
       "  <thead>\n",
       "    <tr style=\"text-align: right;\">\n",
       "      <th></th>\n",
       "      <th>age</th>\n",
       "      <th>sex</th>\n",
       "      <th>cp</th>\n",
       "      <th>trestbps</th>\n",
       "      <th>chol</th>\n",
       "      <th>fbs</th>\n",
       "      <th>restecg</th>\n",
       "      <th>thalach</th>\n",
       "      <th>exang</th>\n",
       "      <th>oldpeak</th>\n",
       "      <th>slope</th>\n",
       "      <th>ca</th>\n",
       "      <th>thal</th>\n",
       "      <th>target</th>\n",
       "    </tr>\n",
       "  </thead>\n",
       "  <tbody>\n",
       "    <tr>\n",
       "      <th>0</th>\n",
       "      <td>63</td>\n",
       "      <td>1</td>\n",
       "      <td>3</td>\n",
       "      <td>145</td>\n",
       "      <td>233</td>\n",
       "      <td>1</td>\n",
       "      <td>0</td>\n",
       "      <td>150</td>\n",
       "      <td>0</td>\n",
       "      <td>2.3</td>\n",
       "      <td>0</td>\n",
       "      <td>0</td>\n",
       "      <td>1</td>\n",
       "      <td>1</td>\n",
       "    </tr>\n",
       "    <tr>\n",
       "      <th>1</th>\n",
       "      <td>37</td>\n",
       "      <td>1</td>\n",
       "      <td>2</td>\n",
       "      <td>130</td>\n",
       "      <td>250</td>\n",
       "      <td>0</td>\n",
       "      <td>1</td>\n",
       "      <td>187</td>\n",
       "      <td>0</td>\n",
       "      <td>3.5</td>\n",
       "      <td>0</td>\n",
       "      <td>0</td>\n",
       "      <td>2</td>\n",
       "      <td>1</td>\n",
       "    </tr>\n",
       "    <tr>\n",
       "      <th>2</th>\n",
       "      <td>41</td>\n",
       "      <td>0</td>\n",
       "      <td>1</td>\n",
       "      <td>130</td>\n",
       "      <td>204</td>\n",
       "      <td>0</td>\n",
       "      <td>0</td>\n",
       "      <td>172</td>\n",
       "      <td>0</td>\n",
       "      <td>1.4</td>\n",
       "      <td>2</td>\n",
       "      <td>0</td>\n",
       "      <td>2</td>\n",
       "      <td>1</td>\n",
       "    </tr>\n",
       "    <tr>\n",
       "      <th>3</th>\n",
       "      <td>56</td>\n",
       "      <td>1</td>\n",
       "      <td>1</td>\n",
       "      <td>120</td>\n",
       "      <td>236</td>\n",
       "      <td>0</td>\n",
       "      <td>1</td>\n",
       "      <td>178</td>\n",
       "      <td>0</td>\n",
       "      <td>0.8</td>\n",
       "      <td>2</td>\n",
       "      <td>0</td>\n",
       "      <td>2</td>\n",
       "      <td>1</td>\n",
       "    </tr>\n",
       "    <tr>\n",
       "      <th>4</th>\n",
       "      <td>57</td>\n",
       "      <td>0</td>\n",
       "      <td>0</td>\n",
       "      <td>120</td>\n",
       "      <td>354</td>\n",
       "      <td>0</td>\n",
       "      <td>1</td>\n",
       "      <td>163</td>\n",
       "      <td>1</td>\n",
       "      <td>0.6</td>\n",
       "      <td>2</td>\n",
       "      <td>0</td>\n",
       "      <td>2</td>\n",
       "      <td>1</td>\n",
       "    </tr>\n",
       "    <tr>\n",
       "      <th>...</th>\n",
       "      <td>...</td>\n",
       "      <td>...</td>\n",
       "      <td>...</td>\n",
       "      <td>...</td>\n",
       "      <td>...</td>\n",
       "      <td>...</td>\n",
       "      <td>...</td>\n",
       "      <td>...</td>\n",
       "      <td>...</td>\n",
       "      <td>...</td>\n",
       "      <td>...</td>\n",
       "      <td>...</td>\n",
       "      <td>...</td>\n",
       "      <td>...</td>\n",
       "    </tr>\n",
       "    <tr>\n",
       "      <th>298</th>\n",
       "      <td>57</td>\n",
       "      <td>0</td>\n",
       "      <td>0</td>\n",
       "      <td>140</td>\n",
       "      <td>241</td>\n",
       "      <td>0</td>\n",
       "      <td>1</td>\n",
       "      <td>123</td>\n",
       "      <td>1</td>\n",
       "      <td>0.2</td>\n",
       "      <td>1</td>\n",
       "      <td>0</td>\n",
       "      <td>3</td>\n",
       "      <td>0</td>\n",
       "    </tr>\n",
       "    <tr>\n",
       "      <th>299</th>\n",
       "      <td>45</td>\n",
       "      <td>1</td>\n",
       "      <td>3</td>\n",
       "      <td>110</td>\n",
       "      <td>264</td>\n",
       "      <td>0</td>\n",
       "      <td>1</td>\n",
       "      <td>132</td>\n",
       "      <td>0</td>\n",
       "      <td>1.2</td>\n",
       "      <td>1</td>\n",
       "      <td>0</td>\n",
       "      <td>3</td>\n",
       "      <td>0</td>\n",
       "    </tr>\n",
       "    <tr>\n",
       "      <th>300</th>\n",
       "      <td>68</td>\n",
       "      <td>1</td>\n",
       "      <td>0</td>\n",
       "      <td>144</td>\n",
       "      <td>193</td>\n",
       "      <td>1</td>\n",
       "      <td>1</td>\n",
       "      <td>141</td>\n",
       "      <td>0</td>\n",
       "      <td>3.4</td>\n",
       "      <td>1</td>\n",
       "      <td>2</td>\n",
       "      <td>3</td>\n",
       "      <td>0</td>\n",
       "    </tr>\n",
       "    <tr>\n",
       "      <th>301</th>\n",
       "      <td>57</td>\n",
       "      <td>1</td>\n",
       "      <td>0</td>\n",
       "      <td>130</td>\n",
       "      <td>131</td>\n",
       "      <td>0</td>\n",
       "      <td>1</td>\n",
       "      <td>115</td>\n",
       "      <td>1</td>\n",
       "      <td>1.2</td>\n",
       "      <td>1</td>\n",
       "      <td>1</td>\n",
       "      <td>3</td>\n",
       "      <td>0</td>\n",
       "    </tr>\n",
       "    <tr>\n",
       "      <th>302</th>\n",
       "      <td>57</td>\n",
       "      <td>0</td>\n",
       "      <td>1</td>\n",
       "      <td>130</td>\n",
       "      <td>236</td>\n",
       "      <td>0</td>\n",
       "      <td>0</td>\n",
       "      <td>174</td>\n",
       "      <td>0</td>\n",
       "      <td>0.0</td>\n",
       "      <td>1</td>\n",
       "      <td>1</td>\n",
       "      <td>2</td>\n",
       "      <td>0</td>\n",
       "    </tr>\n",
       "  </tbody>\n",
       "</table>\n",
       "<p>303 rows × 14 columns</p>\n",
       "</div>"
      ],
      "text/plain": [
       "     age  sex  cp  trestbps  chol  fbs  restecg  thalach  exang  oldpeak  \\\n",
       "0     63    1   3       145   233    1        0      150      0      2.3   \n",
       "1     37    1   2       130   250    0        1      187      0      3.5   \n",
       "2     41    0   1       130   204    0        0      172      0      1.4   \n",
       "3     56    1   1       120   236    0        1      178      0      0.8   \n",
       "4     57    0   0       120   354    0        1      163      1      0.6   \n",
       "..   ...  ...  ..       ...   ...  ...      ...      ...    ...      ...   \n",
       "298   57    0   0       140   241    0        1      123      1      0.2   \n",
       "299   45    1   3       110   264    0        1      132      0      1.2   \n",
       "300   68    1   0       144   193    1        1      141      0      3.4   \n",
       "301   57    1   0       130   131    0        1      115      1      1.2   \n",
       "302   57    0   1       130   236    0        0      174      0      0.0   \n",
       "\n",
       "     slope  ca  thal  target  \n",
       "0        0   0     1       1  \n",
       "1        0   0     2       1  \n",
       "2        2   0     2       1  \n",
       "3        2   0     2       1  \n",
       "4        2   0     2       1  \n",
       "..     ...  ..   ...     ...  \n",
       "298      1   0     3       0  \n",
       "299      1   0     3       0  \n",
       "300      1   2     3       0  \n",
       "301      1   1     3       0  \n",
       "302      1   1     2       0  \n",
       "\n",
       "[303 rows x 14 columns]"
      ]
     },
     "execution_count": 2,
     "metadata": {},
     "output_type": "execute_result"
    }
   ],
   "source": [
    "data=pd.read_csv(\"https://raw.githubusercontent.com/huynhthanh98/ML/master/lab-03/heart.csv\")\n",
    "data"
   ]
  },
  {
   "cell_type": "markdown",
   "metadata": {},
   "source": [
    "## Câu 1: Hãy xây dựng mô hình logistic regression bằng tất cả các features trong file heart, so sánh với thư viện sklearn."
   ]
  },
  {
   "cell_type": "code",
   "execution_count": 3,
   "metadata": {},
   "outputs": [],
   "source": [
    "X=data.drop(columns=['target'])\n",
    "y=data['target']\n",
    "\n",
    "X_train, X_test, y_train, y_test = train_test_split(X, y, test_size=0.2,random_state=5)\n",
    "y_train=y_train.values.reshape([-1,1])\n",
    "y_test=y_test.values.reshape([-1,1])"
   ]
  },
  {
   "cell_type": "code",
   "execution_count": 4,
   "metadata": {},
   "outputs": [],
   "source": [
    "# Normalization\n",
    "min=np.min(X_train,axis=0)\n",
    "max=np.max(X_train,axis=0)\n",
    "X_train=(X_train-min)/(max -min)\n",
    "\n",
    "X_test=(X_test-min)/(max-min)"
   ]
  },
  {
   "cell_type": "code",
   "execution_count": 5,
   "metadata": {},
   "outputs": [],
   "source": [
    "#Hàm sigmoid\n",
    "def sigmoid(W,X):\n",
    "  \"\"\"\n",
    "  W là trọng số\n",
    "  X là sample(s)\n",
    "  \"\"\"\n",
    "\n",
    "  return 1/(1+np.exp((-np.matmul(X,W))))"
   ]
  },
  {
   "cell_type": "code",
   "execution_count": 6,
   "metadata": {},
   "outputs": [
    {
     "data": {
      "text/plain": [
       "(242, 14)"
      ]
     },
     "execution_count": 6,
     "metadata": {},
     "output_type": "execute_result"
    }
   ],
   "source": [
    "#Thêm 1 cột những số 1 vào X_train\n",
    "X_train_bar=np.concatenate([np.ones([X_train.shape[0],1]),X_train],axis=1)\n",
    "X_train_bar.shape"
   ]
  },
  {
   "cell_type": "code",
   "execution_count": 7,
   "metadata": {},
   "outputs": [
    {
     "name": "stdout",
     "output_type": "stream",
     "text": [
      "[0.69314718]\n",
      "[0.6897915]\n",
      "[0.68656639]\n",
      "[0.68345523]\n",
      "[0.68044413]\n",
      "[0.67752155]\n",
      "[0.67467783]\n",
      "[0.67190492]\n",
      "[0.66919605]\n",
      "[0.66654558]\n",
      "[0.66394874]\n",
      "[0.66140151]\n",
      "[0.6589005]\n",
      "[0.65644283]\n",
      "[0.65402604]\n",
      "[0.65164802]\n",
      "[0.64930696]\n",
      "[0.64700128]\n",
      "[0.64472962]\n",
      "[0.64249077]\n",
      "[0.64028367]\n",
      "[0.63810736]\n",
      "[0.635961]\n",
      "[0.63384382]\n",
      "[0.63175512]\n",
      "[0.62969424]\n",
      "[0.62766059]\n",
      "[0.62565362]\n",
      "[0.62367279]\n",
      "[0.62171763]\n",
      "[0.61978766]\n",
      "[0.61788242]\n",
      "[0.61600151]\n",
      "[0.61414449]\n",
      "[0.61231098]\n",
      "[0.61050059]\n",
      "[0.60871295]\n",
      "[0.6069477]\n",
      "[0.60520447]\n",
      "[0.60348293]\n",
      "[0.60178273]\n",
      "[0.60010355]\n",
      "[0.59844506]\n",
      "[0.59680695]\n",
      "[0.5951889]\n",
      "[0.59359061]\n",
      "[0.59201177]\n",
      "[0.5904521]\n",
      "[0.58891129]\n",
      "[0.58738908]\n"
     ]
    }
   ],
   "source": [
    "lr=0.0001\n",
    "#W_init=np.random.rand(14,1)\n",
    "#W_init=np.array([[ 2.23789173],\n",
    "#       [-0.96136103]]) #Đây là khởi tạo\n",
    "\n",
    "W_init=np.zeros([X_train_bar.shape[1],1])\n",
    "\"\"\"W_init=np.array([[ 0.38652764],\n",
    "       [-1.0147613 ]]) #lưu ý đây là W_init gần với W cần tìm để chạy cho nhanh\n",
    "       \"\"\"\n",
    "X_train_bar=np.concatenate([np.ones([X_train.shape[0],1]),X_train],axis=1)\n",
    "\n",
    "list_W=[W_init]\n",
    "list_error=[10]\n",
    "for epoch in range(50000):\n",
    "    W=list_W[-1]\n",
    "    prediction=sigmoid(W,X_train_bar) # Dự đoán\n",
    "\n",
    "    error=-np.mean((y_train*np.log(prediction)+(1-y_train)*np.log(1-prediction)),axis=0) #Tính error\n",
    "    \n",
    "    gradient=np.mean((prediction-y_train)*X_train_bar,axis=0) #Tính Gradient\n",
    "    \n",
    "    gradient=gradient.reshape(-1,1)\n",
    "    \n",
    "    W=W-lr*gradient #cập nhật W\n",
    "    \n",
    "    list_W.append(W)\n",
    "    \n",
    "    list_error.append(error)\n",
    "    \n",
    "    if epoch % 1000==0:\n",
    "        print(list_error[-1])"
   ]
  },
  {
   "cell_type": "code",
   "execution_count": 8,
   "metadata": {},
   "outputs": [
    {
     "data": {
      "text/plain": [
       "0.8032786885245902"
      ]
     },
     "execution_count": 8,
     "metadata": {},
     "output_type": "execute_result"
    }
   ],
   "source": [
    "# Kết quả tự xây dựng\n",
    "X_test_bar=np.concatenate([np.ones([X_test.shape[0],1]),X_test],axis=1)\n",
    "a=sigmoid(W,X_test_bar)\n",
    "np.mean(np.where(a>0.5,1,0)==y_test)"
   ]
  },
  {
   "cell_type": "code",
   "execution_count": 9,
   "metadata": {},
   "outputs": [
    {
     "name": "stderr",
     "output_type": "stream",
     "text": [
      "C:\\Users\\PhongTTP\\Anaconda3\\lib\\site-packages\\sklearn\\utils\\validation.py:72: DataConversionWarning: A column-vector y was passed when a 1d array was expected. Please change the shape of y to (n_samples, ), for example using ravel().\n",
      "  return f(**kwargs)\n"
     ]
    },
    {
     "data": {
      "text/plain": [
       "0.8852459016393442"
      ]
     },
     "execution_count": 9,
     "metadata": {},
     "output_type": "execute_result"
    }
   ],
   "source": [
    "# So sánh với thư viện Sklearn\n",
    "from sklearn.linear_model import LogisticRegression\n",
    "clf = LogisticRegression(random_state=0).fit(X_train, y_train)\n",
    "clf.score(X_test,y_test)\n"
   ]
  },
  {
   "cell_type": "markdown",
   "metadata": {},
   "source": [
    "### Kết quả hàm thủ công: 0.8032786885245902\n",
    "### Kết quả khi dùng hàm scikit-learn: 0.8852459016393442"
   ]
  },
  {
   "cell_type": "markdown",
   "metadata": {},
   "source": [
    "## Câu 2: Hãy xây dựng mô hình softmax regression trên bộ Iris (nên Normalize data), so sánh với thư viện sklearn.\n"
   ]
  },
  {
   "cell_type": "code",
   "execution_count": 10,
   "metadata": {},
   "outputs": [],
   "source": [
    "from sklearn import datasets\n",
    "\n",
    "# import some data to play with\n",
    "iris = datasets.load_iris()\n",
    "X = iris.data\n",
    "y = iris.target"
   ]
  },
  {
   "cell_type": "code",
   "execution_count": 11,
   "metadata": {},
   "outputs": [],
   "source": [
    "# train_test_split data\n",
    "X_train, X_test, y_train, y_test = train_test_split(X, y, test_size=0.33, random_state=42)"
   ]
  },
  {
   "cell_type": "code",
   "execution_count": 12,
   "metadata": {},
   "outputs": [],
   "source": [
    "# Normalization\n",
    "max=np.max(X_train,axis=0)\n",
    "min=np.min(X_train,axis=0)\n",
    "\n",
    "X_train=(X_train-min)/(max-min)\n",
    "X_test=(X_test-min)/(max-min)"
   ]
  },
  {
   "cell_type": "code",
   "execution_count": 13,
   "metadata": {},
   "outputs": [
    {
     "data": {
      "text/plain": [
       "(50, 5)"
      ]
     },
     "execution_count": 13,
     "metadata": {},
     "output_type": "execute_result"
    }
   ],
   "source": [
    "y_train_onehot = np.zeros( (y_train.size, y_train.max() + 1),dtype=int)\n",
    "y_train_onehot[np.arange(y_train.size), y_train.reshape(-1)] = 1\n",
    "\n",
    "y_test_onehot = np.zeros( (y_test.size, y_test.max() + 1) ,dtype=int)\n",
    "y_test_onehot[np.arange(y_test.size), y_test.reshape(-1)] = 1\n",
    "\n",
    "\n",
    "X_train_bar=np.concatenate([np.ones([X_train.shape[0],1]),X_train],axis=1)\n",
    "X_test_bar=np.concatenate([np.ones([X_test.shape[0],1]),X_test],axis=1)\n",
    "X_test_bar.shape"
   ]
  },
  {
   "cell_type": "code",
   "execution_count": 14,
   "metadata": {},
   "outputs": [
    {
     "name": "stdout",
     "output_type": "stream",
     "text": [
      "1.098198230715856\n",
      "0.4541107820263249\n",
      "0.358430626617942\n",
      "0.3099779574490078\n",
      "0.27806815869501905\n",
      "0.2544922052355366\n",
      "0.23596141090505504\n",
      "0.2208346998764794\n",
      "0.20816830722140847\n",
      "0.1973641532118171\n",
      "0.18801639630607792\n",
      "0.17983568437281305\n",
      "0.17260799287018203\n",
      "0.1661704904790502\n",
      "0.16039650510625572\n",
      "0.15518569451129904\n",
      "0.15045736498087456\n",
      "0.14614578431870937\n",
      "0.1421968075643133\n",
      "0.13856539472123702\n"
     ]
    }
   ],
   "source": [
    "lr=0.005\n",
    "\n",
    "W_init=np.zeros([X_train_bar.shape[1],1])\n",
    "list_W=[W_init]\n",
    "list_error=[0]\n",
    "for epoch in range(200000):\n",
    "    expi=np.exp(np.matmul(X_train_bar,list_W[-1])) #300 3\n",
    "    expsum=np.sum(expi,axis=1)   #300, \n",
    "    soft1=expi/expsum.reshape(-1,1)  #300 1\n",
    "    a=(-y_train_onehot+soft1)    #300,1\n",
    "    W_temp=np.zeros([X_train_bar.shape[1],y_train_onehot.shape[1]])\n",
    "    #W_temp\n",
    "    for i in range(y_train_onehot.shape[1]):\n",
    "        temp=i+1\n",
    "        W_temp[:,i:temp]=np.mean(a[:,i:temp]*X_train_bar,axis=0).reshape(-1,1)\n",
    "\n",
    "#cal error\n",
    "    W=list_W[-1]-lr*W_temp\n",
    "    \n",
    "    for i in range(y_train_onehot.shape[1]):\n",
    "        error=np.exp(np.matmul(X_train_bar,W))/np.sum(np.exp(np.matmul(X_train_bar,W)),axis=1).reshape(-1,1)\n",
    "        error=-y_train_onehot*np.log(error)\n",
    "        error=np.sum(np.mean(error,axis=0))\n",
    "        \n",
    "    list_W.append(W)\n",
    "    list_error.append(error)\n",
    "    \n",
    "    if epoch % 10000==0:\n",
    "        print(list_error[-1])"
   ]
  },
  {
   "cell_type": "code",
   "execution_count": 15,
   "metadata": {},
   "outputs": [
    {
     "data": {
      "text/plain": [
       "0.98"
      ]
     },
     "execution_count": 15,
     "metadata": {},
     "output_type": "execute_result"
    }
   ],
   "source": [
    "expi=np.exp(np.matmul(X_test_bar,list_W[-1])) \n",
    "expsum=np.sum(expi,axis=1)   \n",
    "#Kết quả\n",
    "np.mean(y_test.reshape(-1)==np.argmax(expi/expsum.reshape(-1,1),axis=1))"
   ]
  },
  {
   "cell_type": "code",
   "execution_count": 16,
   "metadata": {},
   "outputs": [
    {
     "data": {
      "text/plain": [
       "0.9"
      ]
     },
     "execution_count": 16,
     "metadata": {},
     "output_type": "execute_result"
    }
   ],
   "source": [
    "# So sánh với thư viện SKLearn\n",
    "from sklearn.linear_model import LogisticRegression\n",
    "clf = LogisticRegression(random_state=0).fit(X_train, y_train)\n",
    "clf.score(X_test,y_test)"
   ]
  },
  {
   "cell_type": "markdown",
   "metadata": {},
   "source": [
    "### Kết quả hàm thủ công: 0.98\n",
    "### Kết quả khi dùng hàm scikit-learn: 0.9"
   ]
  },
  {
   "cell_type": "code",
   "execution_count": null,
   "metadata": {},
   "outputs": [],
   "source": []
  }
 ],
 "metadata": {
  "kernelspec": {
   "display_name": "Python 3",
   "language": "python",
   "name": "python3"
  },
  "language_info": {
   "codemirror_mode": {
    "name": "ipython",
    "version": 3
   },
   "file_extension": ".py",
   "mimetype": "text/x-python",
   "name": "python",
   "nbconvert_exporter": "python",
   "pygments_lexer": "ipython3",
   "version": "3.8.5"
  }
 },
 "nbformat": 4,
 "nbformat_minor": 2
}
