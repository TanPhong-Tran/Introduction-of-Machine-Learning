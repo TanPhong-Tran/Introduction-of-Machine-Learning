{
 "cells": [
  {
   "cell_type": "markdown",
   "metadata": {},
   "source": [
    "### Bài tập\n",
    "##### 1. Hãy dùng thuật toán K-mean để chọn ra số cụm thích hợp (như trong slide bài giảng) dựa trên tập training, và dự đoán label của các quan sát trên tập testing của bộ dữ liệu bên dưới.\n"
   ]
  },
  {
   "cell_type": "code",
   "execution_count": 1,
   "metadata": {},
   "outputs": [],
   "source": [
    "import pandas as pd\n",
    "import numpy as np\n",
    "from scipy.spatial.distance import cdist\n",
    "from sklearn.cluster import KMeans\n",
    "from sklearn.model_selection import train_test_split\n",
    "import matplotlib.pyplot as plt"
   ]
  },
  {
   "cell_type": "code",
   "execution_count": 2,
   "metadata": {},
   "outputs": [],
   "source": [
    "rnd = np.random.RandomState(3)\n",
    "\n",
    "# Tìm nhãn mới cho các điểm khi biết tâm cụm\n",
    "def kmeans_assign_labels(X, centroids):\n",
    "    '''\n",
    "    - Gán nhãn mới cho các điểm dữ liệu khi biết centroids\n",
    "    - Các tham số:\n",
    "    ------------------\n",
    "    X : numpy.ndarray/DataFrame\n",
    "        Dữ liệu đầu vào\n",
    "        \n",
    "    centroids : numpy.ndarray\n",
    "        Danh sách các điểm tâm cụm (centroid)\n",
    "    - Trả về:\n",
    "    ------------------\n",
    "    Nhãn mới của từng mẫu trong X ứng với tâm cụm gần nhất.\n",
    "    '''\n",
    "    #Tính khoảng cách giữa X và tâm cụm\n",
    "    D = cdist(X, centroids)\n",
    "    #Trả về Tâm cụm gần nhất\n",
    "    return np.argmin(D, axis = 1)\n",
    "\n",
    "#Kiểm tra tính hội tụ, điều kiện dừng của bài toán\n",
    "def has_converged(centroids, new_centroids):\n",
    "    '''\n",
    "    - Kiểm tra tính hội tụ và điều kiện dừng của bài toán.\n",
    "    - Các tham số:\n",
    "    ------------------\n",
    "    centroids : numpy.ndarray\n",
    "        Danh sách các điểm tâm cụm ban đầu.\n",
    "        \n",
    "    new_centroids : numpy.ndarray\n",
    "        Danh sách các điểm tâm cụm mới.\n",
    "    - Trả về:\n",
    "    ------------------\n",
    "    True nếu 2 tâm cụm là như nhau, ngược lại là False.\n",
    "    '''\n",
    "    #Trả về True nếu tập hợp 2 tâm cụm là như nhau\n",
    "    return (set([tuple(a) for a in centroids]) == set([tuple(a) for a in new_centroids]))\n",
    "\n",
    "#Cập nhật Tâm cụm khi biết nhãn của từng điểm\n",
    "def kmeans_update_centroids(X, labels, K):\n",
    "    '''\n",
    "    - Cập nhật lại tâm cụm khi biết nhãn của từng dữ liệu.\n",
    "    - Các tham số:\n",
    "    ------------------\n",
    "    X : numpy.ndarray/DataFrame\n",
    "        Dữ liệu đầu vào.\n",
    "    labels : numpy.ndarray\n",
    "        Danh sách nhãn của từng mẫu trong dữ liệu.\n",
    "    K : int\n",
    "        Số tâm cụm.\n",
    "    - Trả về:\n",
    "    ------------------\n",
    "    centroids : numppy.ndarray\n",
    "        Danh sách các tâm cụm mới.\n",
    "    '''\n",
    "    centroids = np.zeros((K, X.shape[1]))\n",
    "    for k in range(K):\n",
    "        #Tập hợp tất cả các điểm mà ứng với tâm cụm thứ k\n",
    "        if isinstance(X, pd.DataFrame):\n",
    "            Xk = X.loc[labels == k, :]\n",
    "        else:\n",
    "            Xk = X[labels == k, :]\n",
    "        #Tính trung bình\n",
    "        centroids[k,:] = np.mean(Xk, axis = 0)\n",
    "    return centroids\n",
    "\n",
    "\n",
    "#Khởi tạo tâm cụm\n",
    "def kmeans_init_centroids(X, n_cluster):\n",
    "    '''\n",
    "    - Khởi tạo các điểm đại diện (centroid) ban đầu\n",
    "    - Các tham số:\n",
    "    ------------------\n",
    "    X : numpy.ndarray/DataFrame\n",
    "        Dữ liệu đầu vào\n",
    "        \n",
    "    n_cluster : int\n",
    "        Số centroid\n",
    "    - Trả về:\n",
    "    ------------------\n",
    "    Danh sách k điểm ngẫu nhiên trong X làm centroids\n",
    "    '''\n",
    "    \n",
    "    # Chọn ngẫu nhiên n_cluster dòng của X để tạo tâm cụm\n",
    "    if isinstance(X, pd.DataFrame): # kiểm tra X có phải là 1 DataFrame hay không\n",
    "        return X.loc[rnd.choice(X.shape[0], n_cluster, replace=False)]\n",
    "    return X[rnd.choice(X.shape[0], n_cluster, replace=False)]\n",
    "\n",
    "\n",
    "def kmeans(X, n_clusters):\n",
    "    '''\n",
    "    - Thực thi thuật toán K-Means\n",
    "    - Các tham số:\n",
    "    ------------------\n",
    "    X : numpy.ndarray/DataFrame\n",
    "        Dữ liệu đầu vào.\n",
    "        \n",
    "    n_clusters : int\n",
    "        Số tâm cụm (số cụm).\n",
    "    - Trả về:\n",
    "    ------------------\n",
    "    centroids : numpy.ndarray\n",
    "        Danh sách các tâm cụm sau mỗi lần thực thi thuật toán K-Means.\n",
    "        \n",
    "    labels : numpy.ndarray\n",
    "        Danh sách nhãn của từng mẫu trong dữ liệu ban đầu sau mỗi lần thực thi thuật toán.\n",
    "        \n",
    "    times : int\n",
    "        Số lần lặp lại bước 2 và 3 để cho ra kết quả cuối cùng.\n",
    "    '''\n",
    "    centroids = [kmeans_init_centroids(X, n_clusters)]\n",
    "    labels = []\n",
    "    times = 0 \n",
    "    while True:\n",
    "        labels.append(kmeans_assign_labels(X, centroids[-1]))\n",
    "        new_centroids = kmeans_update_centroids(X, labels[-1], n_clusters)\n",
    "        if has_converged(centroids[-1], new_centroids):\n",
    "            break\n",
    "        centroids.append(new_centroids)\n",
    "        times += 1\n",
    "    return (centroids, labels, times)\n",
    "\n",
    "# Tính tổng bình phương sai số SSE\n",
    "def SSE(X, centroids):\n",
    "    '''\n",
    "    - Tính tổng bình phương sai số của toàn bộ dữ liệu X.\n",
    "    - Các tham số:\n",
    "    ------------------\n",
    "    X : numpy.ndarray/DataFrame\n",
    "        Dữ liệu đầu vào.\n",
    "        \n",
    "    centroids : numpy.ndarray\n",
    "        Các tâm cụm cuối cùng sau khi thực thi thuật toán K-Means.\n",
    "    - Trả về:\n",
    "    ------------------\n",
    "    sse : float\n",
    "        Tổng bình phương sai số toàn bộ dữ liệu.\n",
    "    '''\n",
    "    D = cdist(X, centroids, 'euclidean')\n",
    "    dist = np.min(D, axis=1)\n",
    "    sse = sum(dist**2)\n",
    "    return sse"
   ]
  },
  {
   "cell_type": "code",
   "execution_count": 3,
   "metadata": {},
   "outputs": [
    {
     "data": {
      "text/html": [
       "<div>\n",
       "<style scoped>\n",
       "    .dataframe tbody tr th:only-of-type {\n",
       "        vertical-align: middle;\n",
       "    }\n",
       "\n",
       "    .dataframe tbody tr th {\n",
       "        vertical-align: top;\n",
       "    }\n",
       "\n",
       "    .dataframe thead th {\n",
       "        text-align: right;\n",
       "    }\n",
       "</style>\n",
       "<table border=\"1\" class=\"dataframe\">\n",
       "  <thead>\n",
       "    <tr style=\"text-align: right;\">\n",
       "      <th></th>\n",
       "      <th>CustomerID</th>\n",
       "      <th>Genre</th>\n",
       "      <th>Age</th>\n",
       "      <th>Annual Income (k$)</th>\n",
       "      <th>Spending Score (1-100)</th>\n",
       "    </tr>\n",
       "  </thead>\n",
       "  <tbody>\n",
       "    <tr>\n",
       "      <th>0</th>\n",
       "      <td>1</td>\n",
       "      <td>0</td>\n",
       "      <td>19</td>\n",
       "      <td>15</td>\n",
       "      <td>39</td>\n",
       "    </tr>\n",
       "    <tr>\n",
       "      <th>1</th>\n",
       "      <td>2</td>\n",
       "      <td>0</td>\n",
       "      <td>21</td>\n",
       "      <td>15</td>\n",
       "      <td>81</td>\n",
       "    </tr>\n",
       "    <tr>\n",
       "      <th>2</th>\n",
       "      <td>3</td>\n",
       "      <td>1</td>\n",
       "      <td>20</td>\n",
       "      <td>16</td>\n",
       "      <td>6</td>\n",
       "    </tr>\n",
       "    <tr>\n",
       "      <th>3</th>\n",
       "      <td>4</td>\n",
       "      <td>1</td>\n",
       "      <td>23</td>\n",
       "      <td>16</td>\n",
       "      <td>77</td>\n",
       "    </tr>\n",
       "    <tr>\n",
       "      <th>4</th>\n",
       "      <td>5</td>\n",
       "      <td>1</td>\n",
       "      <td>31</td>\n",
       "      <td>17</td>\n",
       "      <td>40</td>\n",
       "    </tr>\n",
       "  </tbody>\n",
       "</table>\n",
       "</div>"
      ],
      "text/plain": [
       "   CustomerID  Genre  Age  Annual Income (k$)  Spending Score (1-100)\n",
       "0           1      0   19                  15                      39\n",
       "1           2      0   21                  15                      81\n",
       "2           3      1   20                  16                       6\n",
       "3           4      1   23                  16                      77\n",
       "4           5      1   31                  17                      40"
      ]
     },
     "execution_count": 3,
     "metadata": {},
     "output_type": "execute_result"
    }
   ],
   "source": [
    "data=pd.read_csv(\"https://raw.githubusercontent.com/huynhthanh98/ML/master/lab-05/data.csv\")\n",
    "data['Genre'] = data['Genre'].replace(['Male','Female'],[0,1])\n",
    "data.head()"
   ]
  },
  {
   "cell_type": "code",
   "execution_count": 4,
   "metadata": {},
   "outputs": [
    {
     "data": {
      "text/html": [
       "<div>\n",
       "<style scoped>\n",
       "    .dataframe tbody tr th:only-of-type {\n",
       "        vertical-align: middle;\n",
       "    }\n",
       "\n",
       "    .dataframe tbody tr th {\n",
       "        vertical-align: top;\n",
       "    }\n",
       "\n",
       "    .dataframe thead th {\n",
       "        text-align: right;\n",
       "    }\n",
       "</style>\n",
       "<table border=\"1\" class=\"dataframe\">\n",
       "  <thead>\n",
       "    <tr style=\"text-align: right;\">\n",
       "      <th></th>\n",
       "      <th>CustomerID</th>\n",
       "      <th>Genre</th>\n",
       "      <th>Age</th>\n",
       "      <th>Annual Income (k$)</th>\n",
       "      <th>Spending Score (1-100)</th>\n",
       "    </tr>\n",
       "  </thead>\n",
       "  <tbody>\n",
       "    <tr>\n",
       "      <th>count</th>\n",
       "      <td>200.000000</td>\n",
       "      <td>200.000000</td>\n",
       "      <td>200.000000</td>\n",
       "      <td>200.000000</td>\n",
       "      <td>200.000000</td>\n",
       "    </tr>\n",
       "    <tr>\n",
       "      <th>mean</th>\n",
       "      <td>100.500000</td>\n",
       "      <td>0.560000</td>\n",
       "      <td>38.850000</td>\n",
       "      <td>60.560000</td>\n",
       "      <td>50.200000</td>\n",
       "    </tr>\n",
       "    <tr>\n",
       "      <th>std</th>\n",
       "      <td>57.879185</td>\n",
       "      <td>0.497633</td>\n",
       "      <td>13.969007</td>\n",
       "      <td>26.264721</td>\n",
       "      <td>25.823522</td>\n",
       "    </tr>\n",
       "    <tr>\n",
       "      <th>min</th>\n",
       "      <td>1.000000</td>\n",
       "      <td>0.000000</td>\n",
       "      <td>18.000000</td>\n",
       "      <td>15.000000</td>\n",
       "      <td>1.000000</td>\n",
       "    </tr>\n",
       "    <tr>\n",
       "      <th>25%</th>\n",
       "      <td>50.750000</td>\n",
       "      <td>0.000000</td>\n",
       "      <td>28.750000</td>\n",
       "      <td>41.500000</td>\n",
       "      <td>34.750000</td>\n",
       "    </tr>\n",
       "    <tr>\n",
       "      <th>50%</th>\n",
       "      <td>100.500000</td>\n",
       "      <td>1.000000</td>\n",
       "      <td>36.000000</td>\n",
       "      <td>61.500000</td>\n",
       "      <td>50.000000</td>\n",
       "    </tr>\n",
       "    <tr>\n",
       "      <th>75%</th>\n",
       "      <td>150.250000</td>\n",
       "      <td>1.000000</td>\n",
       "      <td>49.000000</td>\n",
       "      <td>78.000000</td>\n",
       "      <td>73.000000</td>\n",
       "    </tr>\n",
       "    <tr>\n",
       "      <th>max</th>\n",
       "      <td>200.000000</td>\n",
       "      <td>1.000000</td>\n",
       "      <td>70.000000</td>\n",
       "      <td>137.000000</td>\n",
       "      <td>99.000000</td>\n",
       "    </tr>\n",
       "  </tbody>\n",
       "</table>\n",
       "</div>"
      ],
      "text/plain": [
       "       CustomerID       Genre         Age  Annual Income (k$)  \\\n",
       "count  200.000000  200.000000  200.000000          200.000000   \n",
       "mean   100.500000    0.560000   38.850000           60.560000   \n",
       "std     57.879185    0.497633   13.969007           26.264721   \n",
       "min      1.000000    0.000000   18.000000           15.000000   \n",
       "25%     50.750000    0.000000   28.750000           41.500000   \n",
       "50%    100.500000    1.000000   36.000000           61.500000   \n",
       "75%    150.250000    1.000000   49.000000           78.000000   \n",
       "max    200.000000    1.000000   70.000000          137.000000   \n",
       "\n",
       "       Spending Score (1-100)  \n",
       "count              200.000000  \n",
       "mean                50.200000  \n",
       "std                 25.823522  \n",
       "min                  1.000000  \n",
       "25%                 34.750000  \n",
       "50%                 50.000000  \n",
       "75%                 73.000000  \n",
       "max                 99.000000  "
      ]
     },
     "execution_count": 4,
     "metadata": {},
     "output_type": "execute_result"
    }
   ],
   "source": [
    "data.describe()"
   ]
  },
  {
   "cell_type": "code",
   "execution_count": 5,
   "metadata": {},
   "outputs": [
    {
     "data": {
      "text/plain": [
       "CustomerID                0\n",
       "Genre                     0\n",
       "Age                       0\n",
       "Annual Income (k$)        0\n",
       "Spending Score (1-100)    0\n",
       "dtype: int64"
      ]
     },
     "execution_count": 5,
     "metadata": {},
     "output_type": "execute_result"
    }
   ],
   "source": [
    "#Check data có NULL hay không\n",
    "data.isnull().sum()"
   ]
  },
  {
   "cell_type": "code",
   "execution_count": 6,
   "metadata": {},
   "outputs": [],
   "source": [
    "#Drop duplicates \n",
    "data.drop_duplicates(inplace=True)"
   ]
  },
  {
   "cell_type": "code",
   "execution_count": 7,
   "metadata": {},
   "outputs": [],
   "source": [
    "X = data.iloc[:, [2, 3]].values\n",
    "X_train, X_test = train_test_split(X, test_size=0.33, random_state=42)\n",
    "np.random.seed(42)"
   ]
  },
  {
   "cell_type": "code",
   "execution_count": 8,
   "metadata": {},
   "outputs": [],
   "source": [
    "# X_train=data.values\n",
    "# np.random.seed(32)\n",
    "# #Khởi tạo các centroids\n",
    "# init_centroids=X_train[np.random.choice(X.shape[0],5,replace=False)]\n",
    "# init_centroids"
   ]
  },
  {
   "cell_type": "code",
   "execution_count": 9,
   "metadata": {},
   "outputs": [
    {
     "data": {
      "image/png": "[encoded data removed]",
      "text/plain": [
       "<Figure size 432x288 with 1 Axes>"
      ]
     },
     "metadata": {
      "needs_background": "light"
     },
     "output_type": "display_data"
    }
   ],
   "source": [
    "distortions = []\n",
    "for i in range(1, 11):\n",
    "    (centroids, labels, times) = kmeans(X_train, i)\n",
    "    sse = SSE(X_train, centroids[-1])\n",
    "    distortions.append(sse)\n",
    "plt.plot(range(1, 11), distortions, marker='o')\n",
    "plt.xlabel('Number of clusters')\n",
    "plt.ylabel('Sum of Squared Errors')\n",
    "plt.tight_layout()\n",
    "plt.show()"
   ]
  },
  {
   "cell_type": "markdown",
   "metadata": {},
   "source": [
    "Ta chọn n_cluster=5"
   ]
  },
  {
   "cell_type": "code",
   "execution_count": 10,
   "metadata": {},
   "outputs": [
    {
     "data": {
      "text/plain": [
       "array([[123,   1,  40,  69,  58],\n",
       "       [187,   1,  54, 101,  24],\n",
       "       [168,   1,  33,  86,  95],\n",
       "       [102,   1,  49,  62,  48],\n",
       "       [ 30,   1,  23,  29,  87]], dtype=int64)"
      ]
     },
     "execution_count": 10,
     "metadata": {},
     "output_type": "execute_result"
    }
   ],
   "source": [
    "X_train=data.values\n",
    "np.random.seed(32)\n",
    "#Khởi tạo các centroids\n",
    "init_centroids=X_train[np.random.choice(X.shape[0],5,replace=False)]\n",
    "init_centroids"
   ]
  },
  {
   "cell_type": "markdown",
   "metadata": {},
   "source": [
    "##### 2. Vẽ hình các cụm trên tập testing"
   ]
  },
  {
   "cell_type": "code",
   "execution_count": 11,
   "metadata": {},
   "outputs": [
    {
     "name": "stderr",
     "output_type": "stream",
     "text": [
      "C:\\Users\\Tran Tan Phong\\anaconda3\\lib\\site-packages\\numpy\\core\\fromnumeric.py:3372: RuntimeWarning: Mean of empty slice.\n",
      "  return _methods._mean(a, axis=axis, dtype=dtype,\n",
      "C:\\Users\\Tran Tan Phong\\anaconda3\\lib\\site-packages\\numpy\\core\\_methods.py:162: RuntimeWarning: invalid value encountered in true_divide\n",
      "  ret = um.true_divide(\n"
     ]
    },
    {
     "ename": "KeyboardInterrupt",
     "evalue": "",
     "output_type": "error",
     "traceback": [
      "\u001b[1;31m---------------------------------------------------------------------------\u001b[0m",
      "\u001b[1;31mKeyboardInterrupt\u001b[0m                         Traceback (most recent call last)",
      "\u001b[1;32m<ipython-input-11-a3d1649ecccd>\u001b[0m in \u001b[0;36m<module>\u001b[1;34m\u001b[0m\n\u001b[0;32m      1\u001b[0m \u001b[0mX_np\u001b[0m\u001b[1;33m=\u001b[0m\u001b[0mX_test\u001b[0m\u001b[1;33m\u001b[0m\u001b[1;33m\u001b[0m\u001b[0m\n\u001b[1;32m----> 2\u001b[1;33m \u001b[1;33m(\u001b[0m\u001b[0mcentroids\u001b[0m\u001b[1;33m,\u001b[0m \u001b[0mlabels\u001b[0m\u001b[1;33m,\u001b[0m \u001b[0mtimes\u001b[0m\u001b[1;33m)\u001b[0m \u001b[1;33m=\u001b[0m \u001b[0mkmeans\u001b[0m\u001b[1;33m(\u001b[0m\u001b[0mX_np\u001b[0m\u001b[1;33m,\u001b[0m \u001b[1;36m5\u001b[0m\u001b[1;33m)\u001b[0m\u001b[1;33m\u001b[0m\u001b[1;33m\u001b[0m\u001b[0m\n\u001b[0m\u001b[0;32m      3\u001b[0m \u001b[0mprint\u001b[0m\u001b[1;33m(\u001b[0m\u001b[1;34m'Centers found by our algorithm:\\n'\u001b[0m\u001b[1;33m,\u001b[0m \u001b[0mcentroids\u001b[0m\u001b[1;33m[\u001b[0m\u001b[1;33m-\u001b[0m\u001b[1;36m1\u001b[0m\u001b[1;33m]\u001b[0m\u001b[1;33m)\u001b[0m\u001b[1;33m\u001b[0m\u001b[1;33m\u001b[0m\u001b[0m\n\u001b[0;32m      4\u001b[0m \u001b[0mX\u001b[0m \u001b[1;33m=\u001b[0m \u001b[0mX_np\u001b[0m\u001b[1;33m\u001b[0m\u001b[1;33m\u001b[0m\u001b[0m\n\u001b[0;32m      5\u001b[0m \u001b[0my\u001b[0m \u001b[1;33m=\u001b[0m \u001b[0mlabels\u001b[0m\u001b[1;33m[\u001b[0m\u001b[1;33m-\u001b[0m\u001b[1;36m1\u001b[0m\u001b[1;33m]\u001b[0m\u001b[1;33m\u001b[0m\u001b[1;33m\u001b[0m\u001b[0m\n",
      "\u001b[1;32m<ipython-input-2-346faddbac84>\u001b[0m in \u001b[0;36mkmeans\u001b[1;34m(X, n_clusters)\u001b[0m\n\u001b[0;32m    115\u001b[0m     \u001b[0mtimes\u001b[0m \u001b[1;33m=\u001b[0m \u001b[1;36m0\u001b[0m\u001b[1;33m\u001b[0m\u001b[1;33m\u001b[0m\u001b[0m\n\u001b[0;32m    116\u001b[0m     \u001b[1;32mwhile\u001b[0m \u001b[1;32mTrue\u001b[0m\u001b[1;33m:\u001b[0m\u001b[1;33m\u001b[0m\u001b[1;33m\u001b[0m\u001b[0m\n\u001b[1;32m--> 117\u001b[1;33m         \u001b[0mlabels\u001b[0m\u001b[1;33m.\u001b[0m\u001b[0mappend\u001b[0m\u001b[1;33m(\u001b[0m\u001b[0mkmeans_assign_labels\u001b[0m\u001b[1;33m(\u001b[0m\u001b[0mX\u001b[0m\u001b[1;33m,\u001b[0m \u001b[0mcentroids\u001b[0m\u001b[1;33m[\u001b[0m\u001b[1;33m-\u001b[0m\u001b[1;36m1\u001b[0m\u001b[1;33m]\u001b[0m\u001b[1;33m)\u001b[0m\u001b[1;33m)\u001b[0m\u001b[1;33m\u001b[0m\u001b[1;33m\u001b[0m\u001b[0m\n\u001b[0m\u001b[0;32m    118\u001b[0m         \u001b[0mnew_centroids\u001b[0m \u001b[1;33m=\u001b[0m \u001b[0mkmeans_update_centroids\u001b[0m\u001b[1;33m(\u001b[0m\u001b[0mX\u001b[0m\u001b[1;33m,\u001b[0m \u001b[0mlabels\u001b[0m\u001b[1;33m[\u001b[0m\u001b[1;33m-\u001b[0m\u001b[1;36m1\u001b[0m\u001b[1;33m]\u001b[0m\u001b[1;33m,\u001b[0m \u001b[0mn_clusters\u001b[0m\u001b[1;33m)\u001b[0m\u001b[1;33m\u001b[0m\u001b[1;33m\u001b[0m\u001b[0m\n\u001b[0;32m    119\u001b[0m         \u001b[1;32mif\u001b[0m \u001b[0mhas_converged\u001b[0m\u001b[1;33m(\u001b[0m\u001b[0mcentroids\u001b[0m\u001b[1;33m[\u001b[0m\u001b[1;33m-\u001b[0m\u001b[1;36m1\u001b[0m\u001b[1;33m]\u001b[0m\u001b[1;33m,\u001b[0m \u001b[0mnew_centroids\u001b[0m\u001b[1;33m)\u001b[0m\u001b[1;33m:\u001b[0m\u001b[1;33m\u001b[0m\u001b[1;33m\u001b[0m\u001b[0m\n",
      "\u001b[1;32m<ipython-input-2-346faddbac84>\u001b[0m in \u001b[0;36mkmeans_assign_labels\u001b[1;34m(X, centroids)\u001b[0m\n\u001b[0;32m     17\u001b[0m     '''\n\u001b[0;32m     18\u001b[0m     \u001b[1;31m#Tính khoảng cách giữa X và tâm cụm\u001b[0m\u001b[1;33m\u001b[0m\u001b[1;33m\u001b[0m\u001b[1;33m\u001b[0m\u001b[0m\n\u001b[1;32m---> 19\u001b[1;33m     \u001b[0mD\u001b[0m \u001b[1;33m=\u001b[0m \u001b[0mcdist\u001b[0m\u001b[1;33m(\u001b[0m\u001b[0mX\u001b[0m\u001b[1;33m,\u001b[0m \u001b[0mcentroids\u001b[0m\u001b[1;33m)\u001b[0m\u001b[1;33m\u001b[0m\u001b[1;33m\u001b[0m\u001b[0m\n\u001b[0m\u001b[0;32m     20\u001b[0m     \u001b[1;31m#Trả về Tâm cụm gần nhất\u001b[0m\u001b[1;33m\u001b[0m\u001b[1;33m\u001b[0m\u001b[1;33m\u001b[0m\u001b[0m\n\u001b[0;32m     21\u001b[0m     \u001b[1;32mreturn\u001b[0m \u001b[0mnp\u001b[0m\u001b[1;33m.\u001b[0m\u001b[0margmin\u001b[0m\u001b[1;33m(\u001b[0m\u001b[0mD\u001b[0m\u001b[1;33m,\u001b[0m \u001b[0maxis\u001b[0m \u001b[1;33m=\u001b[0m \u001b[1;36m1\u001b[0m\u001b[1;33m)\u001b[0m\u001b[1;33m\u001b[0m\u001b[1;33m\u001b[0m\u001b[0m\n",
      "\u001b[1;32m~\\anaconda3\\lib\\site-packages\\scipy\\spatial\\distance.py\u001b[0m in \u001b[0;36mcdist\u001b[1;34m(XA, XB, metric, *args, **kwargs)\u001b[0m\n\u001b[0;32m   2769\u001b[0m             cdist_fn = getattr(_distance_wrap,\n\u001b[0;32m   2770\u001b[0m                                \"cdist_%s_%s_wrap\" % (metric_name, typ))\n\u001b[1;32m-> 2771\u001b[1;33m             \u001b[0mcdist_fn\u001b[0m\u001b[1;33m(\u001b[0m\u001b[0mXA\u001b[0m\u001b[1;33m,\u001b[0m \u001b[0mXB\u001b[0m\u001b[1;33m,\u001b[0m \u001b[0mdm\u001b[0m\u001b[1;33m,\u001b[0m \u001b[1;33m**\u001b[0m\u001b[0mkwargs\u001b[0m\u001b[1;33m)\u001b[0m\u001b[1;33m\u001b[0m\u001b[1;33m\u001b[0m\u001b[0m\n\u001b[0m\u001b[0;32m   2772\u001b[0m             \u001b[1;32mreturn\u001b[0m \u001b[0mdm\u001b[0m\u001b[1;33m\u001b[0m\u001b[1;33m\u001b[0m\u001b[0m\n\u001b[0;32m   2773\u001b[0m \u001b[1;33m\u001b[0m\u001b[0m\n",
      "\u001b[1;31mKeyboardInterrupt\u001b[0m: "
     ]
    }
   ],
   "source": [
    "X_np=X_test\n",
    "(centroids, labels, times) = kmeans(X_np, 5)\n",
    "print('Centers found by our algorithm:\\n', centroids[-1])\n",
    "X = X_np\n",
    "y = labels[-1]\n",
    "centers = centroids[-1]\n",
    "label = np.unique(y)\n",
    "marker = ['o', 'v', 's','^','P']\n",
    "plt_colors = ['b', 'g', 'r', 'c', 'm', 'y', 'k'] # danh sách các màu hỗ trợ\n",
    "#Minh hoạ kết quả\n",
    "fig, ax = plt.subplots()\n",
    "for i, m in zip(label, marker):\n",
    "    ax.scatter(X[y == i][:, 0], X[y == i][:, 1], edgecolor='k', marker=m, label = 'cluster_' + str(i))\n",
    "    ax.plot(centers[i][0], centers[i][1], plt_colors[i+2] + 'o', markersize = 10, label = 'center_' + str(i)) # Vẽ tâm cụm i lên đồ thị\n",
    "plt.legend(bbox_to_anchor=(1.05, 1), ncol=2, borderaxespad=0.)\n",
    "plt.title('Result using our K-Means algorithm')\n",
    "plt.show()"
   ]
  },
  {
   "cell_type": "code",
   "execution_count": 15,
   "metadata": {},
   "outputs": [
    {
     "data": {
      "text/plain": [
       "array([1, 5, 4, 2, 8, 9, 9, 8, 2, 0, 1, 9, 0, 0, 6, 7, 1, 5, 5, 7, 9, 1,\n",
       "       5, 8, 1, 9, 7, 8, 6, 3, 9, 6, 6, 0, 6, 1, 9, 9, 4, 9, 1, 4, 9, 2,\n",
       "       2, 6, 3, 9, 4, 9, 4, 1, 9, 1, 1, 4, 9, 9, 6, 6, 5, 9, 7, 8, 5, 8,\n",
       "       0, 2, 8, 0, 6, 0, 7, 9, 5, 2, 5, 8, 4, 1, 6, 4, 0, 7, 2, 5, 7, 1,\n",
       "       6, 7, 5, 9, 6, 4, 5, 0, 5, 5, 7, 7, 7, 7, 3, 8, 8, 0, 6, 4, 2, 3,\n",
       "       9, 8, 9, 3, 6, 8, 9, 2, 9, 0, 0, 4, 0, 4, 9, 3, 6, 5, 7, 4, 6, 7,\n",
       "       5, 4], dtype=int64)"
      ]
     },
     "execution_count": 15,
     "metadata": {},
     "output_type": "execute_result"
    }
   ],
   "source": []
  },
  {
   "cell_type": "code",
   "execution_count": null,
   "metadata": {},
   "outputs": [],
   "source": []
  },
  {
   "cell_type": "code",
   "execution_count": null,
   "metadata": {},
   "outputs": [],
   "source": []
  }
 ],
 "metadata": {
  "kernelspec": {
   "display_name": "Python 3",
   "language": "python",
   "name": "python3"
  },
  "language_info": {
   "codemirror_mode": {
    "name": "ipython",
    "version": 3
   },
   "file_extension": ".py",
   "mimetype": "text/x-python",
   "name": "python",
   "nbconvert_exporter": "python",
   "pygments_lexer": "ipython3",
   "version": "3.8.5"
  }
 },
 "nbformat": 4,
 "nbformat_minor": 2
}
